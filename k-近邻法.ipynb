{
 "cells": [
  {
   "cell_type": "markdown",
   "metadata": {},
   "source": [
    "# k-近邻算法基础（k-Nearest Neighbors）\n",
    "* 实现简单\n",
    "- 使用的数学知识少\n",
    "- 适合入门"
   ]
  },
  {
   "cell_type": "markdown",
   "metadata": {},
   "source": [
    "### 简单的来讲，KNN算法就是找出x最近邻的k的样本，看k样本中，与之特征相似样本的数量最多的类别，然后将x分入该类别。"
   ]
  },
  {
   "cell_type": "code",
   "execution_count": 1,
   "metadata": {
    "collapsed": true
   },
   "outputs": [],
   "source": [
    "import numpy as np\n",
    "import matplotlib.pyplot as plt"
   ]
  },
  {
   "cell_type": "code",
   "execution_count": 8,
   "metadata": {
    "collapsed": true
   },
   "outputs": [],
   "source": [
    "raw_data_X =  [[3.393533211, 2.331273381],\n",
    "              [3.110073483, 1.781539638],\n",
    "              [1.343808831, 3.368360954],\n",
    "              [3.582294042, 4.679179110],\n",
    "              [2.280362439, 2.866990263],\n",
    "              [7.423436942, 4.696522875],\n",
    "              [5.745051997, 3.533989803],\n",
    "              [9.172168622, 2.511101045],\n",
    "              [7.792783481, 3.424088941],\n",
    "              [7.939820817, 0.791637231]]\n",
    "raw_data_y = [0,0,0,0,0,1,1,1,1,1]"
   ]
  },
  {
   "cell_type": "code",
   "execution_count": 10,
   "metadata": {
    "collapsed": true
   },
   "outputs": [],
   "source": [
    "x_train  = np.array(raw_data_X)\n",
    "y_train = np.array(raw_data_y)"
   ]
  },
  {
   "cell_type": "code",
   "execution_count": 12,
   "metadata": {},
   "outputs": [
    {
     "data": {
      "text/plain": [
       "array([[ 3.39353321,  2.33127338],\n",
       "       [ 3.11007348,  1.78153964],\n",
       "       [ 1.34380883,  3.36836095],\n",
       "       [ 3.58229404,  4.67917911],\n",
       "       [ 2.28036244,  2.86699026],\n",
       "       [ 7.42343694,  4.69652288],\n",
       "       [ 5.745052  ,  3.5339898 ],\n",
       "       [ 9.17216862,  2.51110105],\n",
       "       [ 7.79278348,  3.42408894],\n",
       "       [ 7.93982082,  0.79163723]])"
      ]
     },
     "execution_count": 12,
     "metadata": {},
     "output_type": "execute_result"
    }
   ],
   "source": [
    "x_train"
   ]
  },
  {
   "cell_type": "code",
   "execution_count": 13,
   "metadata": {},
   "outputs": [
    {
     "data": {
      "image/png": "[encoded data removed]",
      "text/plain": [
       "<matplotlib.figure.Figure at 0x1be665ec550>"
      ]
     },
     "metadata": {},
     "output_type": "display_data"
    }
   ],
   "source": [
    "plt.scatter(x_train[y_train==0,0],x_train[y_train==0,1],color='g')\n",
    "plt.scatter(x_train[y_train==1,0],x_train[y_train==1,1],color='r')\n",
    "plt.show()"
   ]
  },
  {
   "cell_type": "code",
   "execution_count": 14,
   "metadata": {
    "collapsed": true
   },
   "outputs": [],
   "source": [
    "x = np.array([8.093607318, 3.365731514])"
   ]
  },
  {
   "cell_type": "code",
   "execution_count": 15,
   "metadata": {},
   "outputs": [
    {
     "data": {
      "image/png": "[encoded data removed]",
      "text/plain": [
       "<matplotlib.figure.Figure at 0x1be6656ceb8>"
      ]
     },
     "metadata": {},
     "output_type": "display_data"
    }
   ],
   "source": [
    "plt.scatter(x_train[y_train==0,0],x_train[y_train==0,1],color='g')\n",
    "plt.scatter(x_train[y_train==1,0],x_train[y_train==1,1],color='r')\n",
    "plt.scatter(x[0], x[1], color='b')\n",
    "plt.show()"
   ]
  },
  {
   "cell_type": "markdown",
   "metadata": {},
   "source": [
    "### kNN的过程"
   ]
  },
  {
   "cell_type": "code",
   "execution_count": 16,
   "metadata": {
    "collapsed": true
   },
   "outputs": [],
   "source": [
    "distances = []"
   ]
  },
  {
   "cell_type": "code",
   "execution_count": 19,
   "metadata": {
    "collapsed": true
   },
   "outputs": [],
   "source": [
    "from math import sqrt\n",
    "for x_trains in x_train:\n",
    "    d = sqrt(np.sum((x_trains - x)**2))\n",
    "    distances.append(d)"
   ]
  },
  {
   "cell_type": "code",
   "execution_count": 20,
   "metadata": {},
   "outputs": [
    {
     "data": {
      "text/plain": [
       "[4.812566907609877,\n",
       " 5.229270827235305,\n",
       " 6.749798999160064,\n",
       " 4.6986266144110695,\n",
       " 5.83460014556857,\n",
       " 1.4900114024329525,\n",
       " 2.354574897431513,\n",
       " 1.3761132675144652,\n",
       " 0.3064319992975,\n",
       " 2.5786840957478887]"
      ]
     },
     "execution_count": 20,
     "metadata": {},
     "output_type": "execute_result"
    }
   ],
   "source": [
    "distances\n"
   ]
  },
  {
   "cell_type": "code",
   "execution_count": 21,
   "metadata": {
    "collapsed": true
   },
   "outputs": [],
   "source": [
    "distances = [sqrt(np.sum((x_trains - x)**2)) for x_trains in x_train ]"
   ]
  },
  {
   "cell_type": "code",
   "execution_count": 22,
   "metadata": {},
   "outputs": [
    {
     "data": {
      "text/plain": [
       "[4.812566907609877,\n",
       " 5.229270827235305,\n",
       " 6.749798999160064,\n",
       " 4.6986266144110695,\n",
       " 5.83460014556857,\n",
       " 1.4900114024329525,\n",
       " 2.354574897431513,\n",
       " 1.3761132675144652,\n",
       " 0.3064319992975,\n",
       " 2.5786840957478887]"
      ]
     },
     "execution_count": 22,
     "metadata": {},
     "output_type": "execute_result"
    }
   ],
   "source": [
    "distances"
   ]
  },
  {
   "cell_type": "code",
   "execution_count": 23,
   "metadata": {},
   "outputs": [
    {
     "data": {
      "text/plain": [
       "array([8, 7, 5, 6, 9, 3, 0, 1, 4, 2], dtype=int64)"
      ]
     },
     "execution_count": 23,
     "metadata": {},
     "output_type": "execute_result"
    }
   ],
   "source": [
    "np.argsort(distances)"
   ]
  },
  {
   "cell_type": "code",
   "execution_count": 24,
   "metadata": {},
   "outputs": [
    {
     "data": {
      "text/plain": [
       "[1, 1, 1, 1, 1, 0]"
      ]
     },
     "execution_count": 24,
     "metadata": {},
     "output_type": "execute_result"
    }
   ],
   "source": [
    "nearest = np.argsort(distances)\n",
    "k = 6\n",
    "topK_y = [y_train[i] for i in nearest[:k]]\n",
    "topK_y"
   ]
  },
  {
   "cell_type": "code",
   "execution_count": 25,
   "metadata": {},
   "outputs": [
    {
     "data": {
      "text/plain": [
       "Counter({0: 1, 1: 5})"
      ]
     },
     "execution_count": 25,
     "metadata": {},
     "output_type": "execute_result"
    }
   ],
   "source": [
    "from collections import Counter\n",
    "Counter(topK_y)"
   ]
  },
  {
   "cell_type": "code",
   "execution_count": 26,
   "metadata": {},
   "outputs": [
    {
     "data": {
      "text/plain": [
       "[(1, 5)]"
      ]
     },
     "execution_count": 26,
     "metadata": {},
     "output_type": "execute_result"
    }
   ],
   "source": [
    "votes  = Counter(topK_y)\n",
    "votes.most_common(1)"
   ]
  },
  {
   "cell_type": "code",
   "execution_count": 29,
   "metadata": {},
   "outputs": [
    {
     "data": {
      "text/plain": [
       "(1, 5)"
      ]
     },
     "execution_count": 29,
     "metadata": {},
     "output_type": "execute_result"
    }
   ],
   "source": [
    "votes.most_common(1)[0]"
   ]
  },
  {
   "cell_type": "markdown",
   "metadata": {
    "collapsed": true
   },
   "source": [
    "## 封装算法"
   ]
  },
  {
   "cell_type": "code",
   "execution_count": 3,
   "metadata": {
    "collapsed": true
   },
   "outputs": [],
   "source": [
    "import numpy as np\n",
    "import matplotlib.pyplot as plt\n",
    "\n",
    "raw_data_X =  [[3.393533211, 2.331273381],\n",
    "              [3.110073483, 1.781539638],\n",
    "              [1.343808831, 3.368360954],\n",
    "              [3.582294042, 4.679179110],\n",
    "              [2.280362439, 2.866990263],\n",
    "              [7.423436942, 4.696522875],\n",
    "              [5.745051997, 3.533989803],\n",
    "              [9.172168622, 2.511101045],\n",
    "              [7.792783481, 3.424088941],\n",
    "              [7.939820817, 0.791637231]]\n",
    "raw_data_y = [0,0,0,0,0,1,1,1,1,1]\n",
    "\n",
    "X_train = np.array(raw_data_X)\n",
    "y_train = np.array(raw_data_y)\n",
    "\n",
    "x = np.array([8.093607318, 3.365731514])"
   ]
  },
  {
   "cell_type": "code",
   "execution_count": 4,
   "metadata": {
    "collapsed": true
   },
   "outputs": [],
   "source": [
    "%run KNN_function/KNN_packeted.py"
   ]
  },
  {
   "cell_type": "code",
   "execution_count": 5,
   "metadata": {},
   "outputs": [
    {
     "data": {
      "text/plain": [
       "1"
      ]
     },
     "execution_count": 5,
     "metadata": {},
     "output_type": "execute_result"
    }
   ],
   "source": [
    "KNN_classify(6, X_train, y_train, x)"
   ]
  },
  {
   "cell_type": "markdown",
   "metadata": {
    "collapsed": true
   },
   "source": [
    "# 回顾什么是机器学习\n",
    "* 输入训练数据集，在机器学习算法训练生成模型，输入样例到模型之后得到预测的输出结果\n",
    "- knn是一个不需要训练过程的算法\n",
    "- knn是特殊的，是没有模型的算法\n",
    "- 为了和其它算法统一，可以说训练集本身就是模型"
   ]
  },
  {
   "cell_type": "markdown",
   "metadata": {},
   "source": [
    "### 使用scikit-learn中的kNN算法"
   ]
  },
  {
   "cell_type": "code",
   "execution_count": 6,
   "metadata": {
    "collapsed": true
   },
   "outputs": [],
   "source": [
    "from sklearn.neighbors import KNeighborsClassifier"
   ]
  },
  {
   "cell_type": "code",
   "execution_count": 7,
   "metadata": {},
   "outputs": [
    {
     "data": {
      "text/plain": [
       "array([1])"
      ]
     },
     "execution_count": 7,
     "metadata": {},
     "output_type": "execute_result"
    }
   ],
   "source": [
    "KNN_fortrain = KNeighborsClassifier(n_neighbors = 6)\n",
    "KNN_fortrain.fit(X_train, y_train)\n",
    "x_predict = x.reshape(1, -1)\n",
    "y_predict = KNN_fortrain.predict(x_predict)\n",
    "\n",
    "y_predict"
   ]
  },
  {
   "cell_type": "markdown",
   "metadata": {
    "collapsed": true
   },
   "source": [
    "### 封装kNN算法"
   ]
  },
  {
   "cell_type": "code",
   "execution_count": 13,
   "metadata": {
    "collapsed": true
   },
   "outputs": [],
   "source": [
    "%run KNN_function/demo.py"
   ]
  },
  {
   "cell_type": "code",
   "execution_count": 14,
   "metadata": {
    "collapsed": true
   },
   "outputs": [],
   "source": [
    "knn = KNNClassifier(k=6)"
   ]
  },
  {
   "cell_type": "code",
   "execution_count": 15,
   "metadata": {},
   "outputs": [
    {
     "data": {
      "text/plain": [
       "KNN(k=6)"
      ]
     },
     "execution_count": 15,
     "metadata": {},
     "output_type": "execute_result"
    }
   ],
   "source": [
    "knn.fit(X_train, y_train)"
   ]
  },
  {
   "cell_type": "code",
   "execution_count": 16,
   "metadata": {},
   "outputs": [
    {
     "data": {
      "text/plain": [
       "array([1])"
      ]
     },
     "execution_count": 16,
     "metadata": {},
     "output_type": "execute_result"
    }
   ],
   "source": [
    "knn.predict(x_predict)"
   ]
  },
  {
   "cell_type": "markdown",
   "metadata": {},
   "source": [
    "### 训练数据集、测试数据集\n",
    "* 训练得到的模型能够直接在真是环境中使用\n",
    "\n",
    "#### 问题：\n",
    "    * 模型很差，造成真是损失\n",
    "    * 真实环境难以拿到真实的label\n",
    "#### 训练数据集和测试数据集的分离：\n",
    "    * 判断机器学习算法的性能\n",
    "    * train test spilt"
   ]
  },
  {
   "cell_type": "code",
   "execution_count": 18,
   "metadata": {
    "collapsed": true
   },
   "outputs": [],
   "source": [
    "import numpy as np\n",
    "import matplotlib.pyplot as plt\n",
    "from sklearn import datasets"
   ]
  },
  {
   "cell_type": "markdown",
   "metadata": {},
   "source": [
    "* 鸢尾花的数据集"
   ]
  },
  {
   "cell_type": "code",
   "execution_count": 19,
   "metadata": {
    "collapsed": true
   },
   "outputs": [],
   "source": [
    "iris = datasets.load_iris()"
   ]
  },
  {
   "cell_type": "code",
   "execution_count": 20,
   "metadata": {
    "collapsed": true
   },
   "outputs": [],
   "source": [
    "x = iris.data\n",
    "y = iris.target"
   ]
  },
  {
   "cell_type": "code",
   "execution_count": 22,
   "metadata": {},
   "outputs": [
    {
     "data": {
      "text/plain": [
       "(150, 4)"
      ]
     },
     "execution_count": 22,
     "metadata": {},
     "output_type": "execute_result"
    }
   ],
   "source": [
    "x.shape"
   ]
  },
  {
   "cell_type": "code",
   "execution_count": 23,
   "metadata": {},
   "outputs": [
    {
     "data": {
      "text/plain": [
       "(150,)"
      ]
     },
     "execution_count": 23,
     "metadata": {},
     "output_type": "execute_result"
    }
   ],
   "source": [
    "y.shape"
   ]
  },
  {
   "cell_type": "markdown",
   "metadata": {},
   "source": [
    "### train test split"
   ]
  },
  {
   "cell_type": "code",
   "execution_count": 24,
   "metadata": {},
   "outputs": [
    {
     "data": {
      "text/plain": [
       "array([0, 0, 0, 0, 0, 0, 0, 0, 0, 0, 0, 0, 0, 0, 0, 0, 0, 0, 0, 0, 0, 0, 0,\n",
       "       0, 0, 0, 0, 0, 0, 0, 0, 0, 0, 0, 0, 0, 0, 0, 0, 0, 0, 0, 0, 0, 0, 0,\n",
       "       0, 0, 0, 0, 1, 1, 1, 1, 1, 1, 1, 1, 1, 1, 1, 1, 1, 1, 1, 1, 1, 1, 1,\n",
       "       1, 1, 1, 1, 1, 1, 1, 1, 1, 1, 1, 1, 1, 1, 1, 1, 1, 1, 1, 1, 1, 1, 1,\n",
       "       1, 1, 1, 1, 1, 1, 1, 1, 2, 2, 2, 2, 2, 2, 2, 2, 2, 2, 2, 2, 2, 2, 2,\n",
       "       2, 2, 2, 2, 2, 2, 2, 2, 2, 2, 2, 2, 2, 2, 2, 2, 2, 2, 2, 2, 2, 2, 2,\n",
       "       2, 2, 2, 2, 2, 2, 2, 2, 2, 2, 2, 2])"
      ]
     },
     "execution_count": 24,
     "metadata": {},
     "output_type": "execute_result"
    }
   ],
   "source": [
    "y"
   ]
  },
  {
   "cell_type": "code",
   "execution_count": 25,
   "metadata": {
    "collapsed": true
   },
   "outputs": [],
   "source": [
    "shuffie_indexes = np.random.permutation(len(x))"
   ]
  },
  {
   "cell_type": "code",
   "execution_count": 26,
   "metadata": {
    "scrolled": true
   },
   "outputs": [
    {
     "data": {
      "text/plain": [
       "array([ 32,  15,   9,  14,  64, 117,  75,  16, 111, 132, 129,  26,  90,\n",
       "        92,  22,  10,  61,  34,  38,  98,  33, 133,  20,  30,   1, 101,\n",
       "        73, 109, 118, 134,   8,  25,  56,  76,  42, 140,  91, 105,  24,\n",
       "        18, 122,  40, 121,  95, 115, 114, 127,   7, 104,  49,  94,  69,\n",
       "        71,   5, 128,  13,  81,  86,  70,  44, 147,  51, 100, 141, 116,\n",
       "        43,  74,  85,  77,  82,  47, 102,  53, 138, 106,  17, 107, 143,\n",
       "         6, 108, 112, 142,  52, 126, 135,  68, 130,  12,  55,   4,  99,\n",
       "       144, 125,  87,  31,  79,  60, 136,  21,  63,  97,  41,  50, 148,\n",
       "        19, 103, 123,  66,  57,  59,  35,  78,  84,  48,  72,  39,  54,\n",
       "        23,  28,  58,  83, 131,  88,  89,  27,  62, 110,  11,  67, 149,\n",
       "       113,  45, 120, 139,   2, 146,  29, 124,  65,  93,   3, 145,  96,\n",
       "        37,   0, 119,  80,  36,  46, 137])"
      ]
     },
     "execution_count": 26,
     "metadata": {},
     "output_type": "execute_result"
    }
   ],
   "source": [
    "shuffie_indexes"
   ]
  },
  {
   "cell_type": "code",
   "execution_count": 27,
   "metadata": {
    "collapsed": true
   },
   "outputs": [],
   "source": [
    "test_ratio = 0.2\n",
    "test_size = int(len(x)*test_ratio)"
   ]
  },
  {
   "cell_type": "code",
   "execution_count": 28,
   "metadata": {
    "collapsed": true
   },
   "outputs": [],
   "source": [
    "test_indexes = shuffie_indexes[:test_size]"
   ]
  },
  {
   "cell_type": "code",
   "execution_count": 29,
   "metadata": {},
   "outputs": [
    {
     "data": {
      "text/plain": [
       "array([ 32,  15,   9,  14,  64, 117,  75,  16, 111, 132, 129,  26,  90,\n",
       "        92,  22,  10,  61,  34,  38,  98,  33, 133,  20,  30,   1, 101,\n",
       "        73, 109, 118, 134])"
      ]
     },
     "execution_count": 29,
     "metadata": {},
     "output_type": "execute_result"
    }
   ],
   "source": [
    "test_indexes"
   ]
  },
  {
   "cell_type": "code",
   "execution_count": 30,
   "metadata": {
    "collapsed": true
   },
   "outputs": [],
   "source": [
    "train_indexes = shuffie_indexes[test_size:]"
   ]
  },
  {
   "cell_type": "code",
   "execution_count": 31,
   "metadata": {},
   "outputs": [
    {
     "data": {
      "text/plain": [
       "array([  8,  25,  56,  76,  42, 140,  91, 105,  24,  18, 122,  40, 121,\n",
       "        95, 115, 114, 127,   7, 104,  49,  94,  69,  71,   5, 128,  13,\n",
       "        81,  86,  70,  44, 147,  51, 100, 141, 116,  43,  74,  85,  77,\n",
       "        82,  47, 102,  53, 138, 106,  17, 107, 143,   6, 108, 112, 142,\n",
       "        52, 126, 135,  68, 130,  12,  55,   4,  99, 144, 125,  87,  31,\n",
       "        79,  60, 136,  21,  63,  97,  41,  50, 148,  19, 103, 123,  66,\n",
       "        57,  59,  35,  78,  84,  48,  72,  39,  54,  23,  28,  58,  83,\n",
       "       131,  88,  89,  27,  62, 110,  11,  67, 149, 113,  45, 120, 139,\n",
       "         2, 146,  29, 124,  65,  93,   3, 145,  96,  37,   0, 119,  80,\n",
       "        36,  46, 137])"
      ]
     },
     "execution_count": 31,
     "metadata": {},
     "output_type": "execute_result"
    }
   ],
   "source": [
    "train_indexes"
   ]
  },
  {
   "cell_type": "code",
   "execution_count": 41,
   "metadata": {
    "collapsed": true
   },
   "outputs": [],
   "source": [
    "x_test = x[test_indexes]\n",
    "y_test = y[test_indexes]\n",
    "\n",
    "x_train = x[train_indexes]\n",
    "y_train = y[train_indexes]"
   ]
  },
  {
   "cell_type": "code",
   "execution_count": 42,
   "metadata": {},
   "outputs": [
    {
     "name": "stdout",
     "output_type": "stream",
     "text": [
      "(120, 4)\n",
      "(120,)\n",
      "(30, 4)\n",
      "(30,)\n"
     ]
    }
   ],
   "source": [
    "print(x_train.shape)\n",
    "print(y_train.shape)\n",
    "\n",
    "print(x_test.shape)\n",
    "print(y_test.shape)"
   ]
  },
  {
   "cell_type": "code",
   "execution_count": 17,
   "metadata": {
    "collapsed": true
   },
   "outputs": [],
   "source": [
    "%run KNN_function/model_selection.py"
   ]
  },
  {
   "cell_type": "code",
   "execution_count": 47,
   "metadata": {
    "collapsed": true
   },
   "outputs": [],
   "source": [
    "x_train, x_test, y_train, y_test = train_test_split(x, y)"
   ]
  },
  {
   "cell_type": "code",
   "execution_count": 48,
   "metadata": {
    "scrolled": true
   },
   "outputs": [
    {
     "name": "stdout",
     "output_type": "stream",
     "text": [
      "(120, 4)\n",
      "(120,)\n",
      "(30, 4)\n",
      "(30,)\n"
     ]
    }
   ],
   "source": [
    "print(x_train.shape)\n",
    "print(y_train.shape)\n",
    "\n",
    "print(x_test.shape)\n",
    "print(y_test.shape)"
   ]
  },
  {
   "cell_type": "code",
   "execution_count": 49,
   "metadata": {
    "collapsed": true
   },
   "outputs": [],
   "source": [
    "%run KNN_function/demo.py"
   ]
  },
  {
   "cell_type": "code",
   "execution_count": 50,
   "metadata": {
    "collapsed": true
   },
   "outputs": [],
   "source": [
    "knn = KNNClassifier(k=3)"
   ]
  },
  {
   "cell_type": "code",
   "execution_count": 51,
   "metadata": {
    "scrolled": false
   },
   "outputs": [
    {
     "data": {
      "text/plain": [
       "KNN(k=3)"
      ]
     },
     "execution_count": 51,
     "metadata": {},
     "output_type": "execute_result"
    }
   ],
   "source": [
    "knn.fit(x_train, y_train)"
   ]
  },
  {
   "cell_type": "code",
   "execution_count": 53,
   "metadata": {
    "collapsed": true
   },
   "outputs": [],
   "source": [
    "y_predict = knn.predict(x_test)"
   ]
  },
  {
   "cell_type": "code",
   "execution_count": 55,
   "metadata": {
    "scrolled": true
   },
   "outputs": [
    {
     "data": {
      "text/plain": [
       "0.96666666666666667"
      ]
     },
     "execution_count": 55,
     "metadata": {},
     "output_type": "execute_result"
    }
   ],
   "source": [
    "sum(y_predict == y_test)/len(y_test)"
   ]
  },
  {
   "cell_type": "markdown",
   "metadata": {},
   "source": [
    "### 分类准确度 accuracy"
   ]
  },
  {
   "cell_type": "code",
   "execution_count": 2,
   "metadata": {
    "collapsed": true
   },
   "outputs": [],
   "source": [
    "import numpy as np\n",
    "import matplotlib.pyplot as plt\n",
    "from sklearn import datasets\n",
    "import matplotlib"
   ]
  },
  {
   "cell_type": "code",
   "execution_count": 3,
   "metadata": {
    "collapsed": true
   },
   "outputs": [],
   "source": [
    "dig = datasets.load_digits()"
   ]
  },
  {
   "cell_type": "code",
   "execution_count": 4,
   "metadata": {},
   "outputs": [
    {
     "data": {
      "text/plain": [
       "dict_keys(['data', 'target', 'target_names', 'images', 'DESCR'])"
      ]
     },
     "execution_count": 4,
     "metadata": {},
     "output_type": "execute_result"
    }
   ],
   "source": [
    "dig.keys()"
   ]
  },
  {
   "cell_type": "code",
   "execution_count": 5,
   "metadata": {
    "scrolled": true
   },
   "outputs": [
    {
     "name": "stdout",
     "output_type": "stream",
     "text": [
      "Optical Recognition of Handwritten Digits Data Set\n",
      "===================================================\n",
      "\n",
      "Notes\n",
      "-----\n",
      "Data Set Characteristics:\n",
      "    :Number of Instances: 5620\n",
      "    :Number of Attributes: 64\n",
      "    :Attribute Information: 8x8 image of integer pixels in the range 0..16.\n",
      "    :Missing Attribute Values: None\n",
      "    :Creator: E. Alpaydin (alpaydin '@' boun.edu.tr)\n",
      "    :Date: July; 1998\n",
      "\n",
      "This is a copy of the test set of the UCI ML hand-written digits datasets\n",
      "http://archive.ics.uci.edu/ml/datasets/Optical+Recognition+of+Handwritten+Digits\n",
      "\n",
      "The data set contains images of hand-written digits: 10 classes where\n",
      "each class refers to a digit.\n",
      "\n",
      "Preprocessing programs made available by NIST were used to extract\n",
      "normalized bitmaps of handwritten digits from a preprinted form. From a\n",
      "total of 43 people, 30 contributed to the training set and different 13\n",
      "to the test set. 32x32 bitmaps are divided into nonoverlapping blocks of\n",
      "4x4 and the number of on pixels are counted in each block. This generates\n",
      "an input matrix of 8x8 where each element is an integer in the range\n",
      "0..16. This reduces dimensionality and gives invariance to small\n",
      "distortions.\n",
      "\n",
      "For info on NIST preprocessing routines, see M. D. Garris, J. L. Blue, G.\n",
      "T. Candela, D. L. Dimmick, J. Geist, P. J. Grother, S. A. Janet, and C.\n",
      "L. Wilson, NIST Form-Based Handprint Recognition System, NISTIR 5469,\n",
      "1994.\n",
      "\n",
      "References\n",
      "----------\n",
      "  - C. Kaynak (1995) Methods of Combining Multiple Classifiers and Their\n",
      "    Applications to Handwritten Digit Recognition, MSc Thesis, Institute of\n",
      "    Graduate Studies in Science and Engineering, Bogazici University.\n",
      "  - E. Alpaydin, C. Kaynak (1998) Cascading Classifiers, Kybernetika.\n",
      "  - Ken Tang and Ponnuthurai N. Suganthan and Xi Yao and A. Kai Qin.\n",
      "    Linear dimensionalityreduction using relevance weighted LDA. School of\n",
      "    Electrical and Electronic Engineering Nanyang Technological University.\n",
      "    2005.\n",
      "  - Claudio Gentile. A New Approximate Maximal Margin Classification\n",
      "    Algorithm. NIPS. 2000.\n",
      "\n"
     ]
    }
   ],
   "source": [
    "print(dig.DESCR)"
   ]
  },
  {
   "cell_type": "code",
   "execution_count": 6,
   "metadata": {},
   "outputs": [
    {
     "data": {
      "text/plain": [
       "(1797, 64)"
      ]
     },
     "execution_count": 6,
     "metadata": {},
     "output_type": "execute_result"
    }
   ],
   "source": [
    "X = dig.data\n",
    "X.shape"
   ]
  },
  {
   "cell_type": "code",
   "execution_count": 7,
   "metadata": {
    "collapsed": true
   },
   "outputs": [],
   "source": [
    "y = dig.target"
   ]
  },
  {
   "cell_type": "code",
   "execution_count": 8,
   "metadata": {},
   "outputs": [
    {
     "data": {
      "text/plain": [
       "(1797,)"
      ]
     },
     "execution_count": 8,
     "metadata": {},
     "output_type": "execute_result"
    }
   ],
   "source": [
    "y.shape"
   ]
  },
  {
   "cell_type": "code",
   "execution_count": 9,
   "metadata": {},
   "outputs": [
    {
     "data": {
      "text/plain": [
       "array([0, 1, 2, 3, 4, 5, 6, 7, 8, 9])"
      ]
     },
     "execution_count": 9,
     "metadata": {},
     "output_type": "execute_result"
    }
   ],
   "source": [
    "dig.target_names"
   ]
  },
  {
   "cell_type": "code",
   "execution_count": 10,
   "metadata": {},
   "outputs": [
    {
     "data": {
      "text/plain": [
       "array([0, 1, 2, 3, 4, 5, 6, 7, 8, 9, 0, 1, 2, 3, 4, 5, 6, 7, 8, 9, 0, 1, 2,\n",
       "       3, 4, 5, 6, 7, 8, 9, 0, 9, 5, 5, 6, 5, 0, 9, 8, 9, 8, 4, 1, 7, 7, 3,\n",
       "       5, 1, 0, 0, 2, 2, 7, 8, 2, 0, 1, 2, 6, 3, 3, 7, 3, 3, 4, 6, 6, 6, 4,\n",
       "       9, 1, 5, 0, 9, 5, 2, 8, 2, 0, 0, 1, 7, 6, 3, 2, 1, 7, 4, 6, 3, 1, 3,\n",
       "       9, 1, 7, 6, 8, 4, 3, 1])"
      ]
     },
     "execution_count": 10,
     "metadata": {},
     "output_type": "execute_result"
    }
   ],
   "source": [
    "y[:100]"
   ]
  },
  {
   "cell_type": "code",
   "execution_count": 11,
   "metadata": {},
   "outputs": [
    {
     "data": {
      "text/plain": [
       "array([[  0.,   0.,   5.,  13.,   9.,   1.,   0.,   0.,   0.,   0.,  13.,\n",
       "         15.,  10.,  15.,   5.,   0.,   0.,   3.,  15.,   2.,   0.,  11.,\n",
       "          8.,   0.,   0.,   4.,  12.,   0.,   0.,   8.,   8.,   0.,   0.,\n",
       "          5.,   8.,   0.,   0.,   9.,   8.,   0.,   0.,   4.,  11.,   0.,\n",
       "          1.,  12.,   7.,   0.,   0.,   2.,  14.,   5.,  10.,  12.,   0.,\n",
       "          0.,   0.,   0.,   6.,  13.,  10.,   0.,   0.,   0.],\n",
       "       [  0.,   0.,   0.,  12.,  13.,   5.,   0.,   0.,   0.,   0.,   0.,\n",
       "         11.,  16.,   9.,   0.,   0.,   0.,   0.,   3.,  15.,  16.,   6.,\n",
       "          0.,   0.,   0.,   7.,  15.,  16.,  16.,   2.,   0.,   0.,   0.,\n",
       "          0.,   1.,  16.,  16.,   3.,   0.,   0.,   0.,   0.,   1.,  16.,\n",
       "         16.,   6.,   0.,   0.,   0.,   0.,   1.,  16.,  16.,   6.,   0.,\n",
       "          0.,   0.,   0.,   0.,  11.,  16.,  10.,   0.,   0.],\n",
       "       [  0.,   0.,   0.,   4.,  15.,  12.,   0.,   0.,   0.,   0.,   3.,\n",
       "         16.,  15.,  14.,   0.,   0.,   0.,   0.,   8.,  13.,   8.,  16.,\n",
       "          0.,   0.,   0.,   0.,   1.,   6.,  15.,  11.,   0.,   0.,   0.,\n",
       "          1.,   8.,  13.,  15.,   1.,   0.,   0.,   0.,   9.,  16.,  16.,\n",
       "          5.,   0.,   0.,   0.,   0.,   3.,  13.,  16.,  16.,  11.,   5.,\n",
       "          0.,   0.,   0.,   0.,   3.,  11.,  16.,   9.,   0.],\n",
       "       [  0.,   0.,   7.,  15.,  13.,   1.,   0.,   0.,   0.,   8.,  13.,\n",
       "          6.,  15.,   4.,   0.,   0.,   0.,   2.,   1.,  13.,  13.,   0.,\n",
       "          0.,   0.,   0.,   0.,   2.,  15.,  11.,   1.,   0.,   0.,   0.,\n",
       "          0.,   0.,   1.,  12.,  12.,   1.,   0.,   0.,   0.,   0.,   0.,\n",
       "          1.,  10.,   8.,   0.,   0.,   0.,   8.,   4.,   5.,  14.,   9.,\n",
       "          0.,   0.,   0.,   7.,  13.,  13.,   9.,   0.,   0.],\n",
       "       [  0.,   0.,   0.,   1.,  11.,   0.,   0.,   0.,   0.,   0.,   0.,\n",
       "          7.,   8.,   0.,   0.,   0.,   0.,   0.,   1.,  13.,   6.,   2.,\n",
       "          2.,   0.,   0.,   0.,   7.,  15.,   0.,   9.,   8.,   0.,   0.,\n",
       "          5.,  16.,  10.,   0.,  16.,   6.,   0.,   0.,   4.,  15.,  16.,\n",
       "         13.,  16.,   1.,   0.,   0.,   0.,   0.,   3.,  15.,  10.,   0.,\n",
       "          0.,   0.,   0.,   0.,   2.,  16.,   4.,   0.,   0.],\n",
       "       [  0.,   0.,  12.,  10.,   0.,   0.,   0.,   0.,   0.,   0.,  14.,\n",
       "         16.,  16.,  14.,   0.,   0.,   0.,   0.,  13.,  16.,  15.,  10.,\n",
       "          1.,   0.,   0.,   0.,  11.,  16.,  16.,   7.,   0.,   0.,   0.,\n",
       "          0.,   0.,   4.,   7.,  16.,   7.,   0.,   0.,   0.,   0.,   0.,\n",
       "          4.,  16.,   9.,   0.,   0.,   0.,   5.,   4.,  12.,  16.,   4.,\n",
       "          0.,   0.,   0.,   9.,  16.,  16.,  10.,   0.,   0.],\n",
       "       [  0.,   0.,   0.,  12.,  13.,   0.,   0.,   0.,   0.,   0.,   5.,\n",
       "         16.,   8.,   0.,   0.,   0.,   0.,   0.,  13.,  16.,   3.,   0.,\n",
       "          0.,   0.,   0.,   0.,  14.,  13.,   0.,   0.,   0.,   0.,   0.,\n",
       "          0.,  15.,  12.,   7.,   2.,   0.,   0.,   0.,   0.,  13.,  16.,\n",
       "         13.,  16.,   3.,   0.,   0.,   0.,   7.,  16.,  11.,  15.,   8.,\n",
       "          0.,   0.,   0.,   1.,   9.,  15.,  11.,   3.,   0.],\n",
       "       [  0.,   0.,   7.,   8.,  13.,  16.,  15.,   1.,   0.,   0.,   7.,\n",
       "          7.,   4.,  11.,  12.,   0.,   0.,   0.,   0.,   0.,   8.,  13.,\n",
       "          1.,   0.,   0.,   4.,   8.,   8.,  15.,  15.,   6.,   0.,   0.,\n",
       "          2.,  11.,  15.,  15.,   4.,   0.,   0.,   0.,   0.,   0.,  16.,\n",
       "          5.,   0.,   0.,   0.,   0.,   0.,   9.,  15.,   1.,   0.,   0.,\n",
       "          0.,   0.,   0.,  13.,   5.,   0.,   0.,   0.,   0.],\n",
       "       [  0.,   0.,   9.,  14.,   8.,   1.,   0.,   0.,   0.,   0.,  12.,\n",
       "         14.,  14.,  12.,   0.,   0.,   0.,   0.,   9.,  10.,   0.,  15.,\n",
       "          4.,   0.,   0.,   0.,   3.,  16.,  12.,  14.,   2.,   0.,   0.,\n",
       "          0.,   4.,  16.,  16.,   2.,   0.,   0.,   0.,   3.,  16.,   8.,\n",
       "         10.,  13.,   2.,   0.,   0.,   1.,  15.,   1.,   3.,  16.,   8.,\n",
       "          0.,   0.,   0.,  11.,  16.,  15.,  11.,   1.,   0.],\n",
       "       [  0.,   0.,  11.,  12.,   0.,   0.,   0.,   0.,   0.,   2.,  16.,\n",
       "         16.,  16.,  13.,   0.,   0.,   0.,   3.,  16.,  12.,  10.,  14.,\n",
       "          0.,   0.,   0.,   1.,  16.,   1.,  12.,  15.,   0.,   0.,   0.,\n",
       "          0.,  13.,  16.,   9.,  15.,   2.,   0.,   0.,   0.,   0.,   3.,\n",
       "          0.,   9.,  11.,   0.,   0.,   0.,   0.,   0.,   9.,  15.,   4.,\n",
       "          0.,   0.,   0.,   9.,  12.,  13.,   3.,   0.,   0.]])"
      ]
     },
     "execution_count": 11,
     "metadata": {},
     "output_type": "execute_result"
    }
   ],
   "source": [
    "X[:10]"
   ]
  },
  {
   "cell_type": "code",
   "execution_count": 12,
   "metadata": {
    "collapsed": true
   },
   "outputs": [],
   "source": [
    "some_digit = X[666]"
   ]
  },
  {
   "cell_type": "code",
   "execution_count": 13,
   "metadata": {},
   "outputs": [
    {
     "data": {
      "text/plain": [
       "0"
      ]
     },
     "execution_count": 13,
     "metadata": {},
     "output_type": "execute_result"
    }
   ],
   "source": [
    "y[666]"
   ]
  },
  {
   "cell_type": "code",
   "execution_count": 14,
   "metadata": {},
   "outputs": [
    {
     "data": {
      "text/plain": [
       "array([  0.,   0.,   5.,  15.,  14.,   3.,   0.,   0.,   0.,   0.,  13.,\n",
       "        15.,   9.,  15.,   2.,   0.,   0.,   4.,  16.,  12.,   0.,  10.,\n",
       "         6.,   0.,   0.,   8.,  16.,   9.,   0.,   8.,  10.,   0.,   0.,\n",
       "         7.,  15.,   5.,   0.,  12.,  11.,   0.,   0.,   7.,  13.,   0.,\n",
       "         5.,  16.,   6.,   0.,   0.,   0.,  16.,  12.,  15.,  13.,   1.,\n",
       "         0.,   0.,   0.,   6.,  16.,  12.,   2.,   0.,   0.])"
      ]
     },
     "execution_count": 14,
     "metadata": {},
     "output_type": "execute_result"
    }
   ],
   "source": [
    "some_digit"
   ]
  },
  {
   "cell_type": "code",
   "execution_count": 16,
   "metadata": {},
   "outputs": [
    {
     "data": {
      "image/png": "[encoded data removed]",
      "text/plain": [
       "<matplotlib.figure.Figure at 0x1a02c6b2cc0>"
      ]
     },
     "metadata": {},
     "output_type": "display_data"
    }
   ],
   "source": [
    "some_digit_image  = some_digit.reshape(8,8)\n",
    "plt.imshow(some_digit_image, cmap = matplotlib.cm.binary)\n",
    "plt.show()"
   ]
  },
  {
   "cell_type": "code",
   "execution_count": 19,
   "metadata": {
    "collapsed": true
   },
   "outputs": [],
   "source": [
    "X_train, X_test, y_train, y_test = train_test_split(X, y, test_ratio = 0.2)"
   ]
  },
  {
   "cell_type": "code",
   "execution_count": 20,
   "metadata": {
    "collapsed": true
   },
   "outputs": [],
   "source": [
    "%run KNN_function/demo.py "
   ]
  },
  {
   "cell_type": "code",
   "execution_count": 21,
   "metadata": {
    "collapsed": true
   },
   "outputs": [],
   "source": [
    "knn = KNNClassifier(k=3)"
   ]
  },
  {
   "cell_type": "code",
   "execution_count": 22,
   "metadata": {},
   "outputs": [
    {
     "data": {
      "text/plain": [
       "KNN(k=3)"
      ]
     },
     "execution_count": 22,
     "metadata": {},
     "output_type": "execute_result"
    }
   ],
   "source": [
    "knn.fit(X_train, y_train)"
   ]
  },
  {
   "cell_type": "code",
   "execution_count": 23,
   "metadata": {
    "collapsed": true
   },
   "outputs": [],
   "source": [
    "y_predict = knn.predict(X_test)"
   ]
  },
  {
   "cell_type": "code",
   "execution_count": 24,
   "metadata": {},
   "outputs": [
    {
     "data": {
      "text/plain": [
       "358"
      ]
     },
     "execution_count": 24,
     "metadata": {},
     "output_type": "execute_result"
    }
   ],
   "source": [
    "np.sum(y_predict == y_test)"
   ]
  },
  {
   "cell_type": "code",
   "execution_count": 25,
   "metadata": {},
   "outputs": [
    {
     "data": {
      "text/plain": [
       "0.99721448467966578"
      ]
     },
     "execution_count": 25,
     "metadata": {},
     "output_type": "execute_result"
    }
   ],
   "source": [
    "np.sum(y_predict == y_test)/len(y_test)"
   ]
  },
  {
   "cell_type": "markdown",
   "metadata": {},
   "source": [
    "### scikit-learn中的accuracy_score"
   ]
  },
  {
   "cell_type": "code",
   "execution_count": 30,
   "metadata": {
    "collapsed": true
   },
   "outputs": [],
   "source": [
    "from sklearn.model_selection import train_test_split\n",
    "\n"
   ]
  },
  {
   "cell_type": "code",
   "execution_count": 32,
   "metadata": {
    "collapsed": true
   },
   "outputs": [],
   "source": [
    "X_train, X_test, y_train, y_test = train_test_split(X , y, test_size = 0.2, random_state = 666)"
   ]
  },
  {
   "cell_type": "code",
   "execution_count": 33,
   "metadata": {
    "collapsed": true
   },
   "outputs": [],
   "source": [
    "from sklearn.neighbors import KNeighborsClassifier"
   ]
  },
  {
   "cell_type": "code",
   "execution_count": 37,
   "metadata": {
    "collapsed": true
   },
   "outputs": [],
   "source": [
    "knn_clif = KNeighborsClassifier(n_neighbors = 3)"
   ]
  },
  {
   "cell_type": "code",
   "execution_count": 39,
   "metadata": {},
   "outputs": [
    {
     "data": {
      "text/plain": [
       "KNeighborsClassifier(algorithm='auto', leaf_size=30, metric='minkowski',\n",
       "           metric_params=None, n_jobs=1, n_neighbors=3, p=2,\n",
       "           weights='uniform')"
      ]
     },
     "execution_count": 39,
     "metadata": {},
     "output_type": "execute_result"
    }
   ],
   "source": [
    "knn_clif.fit(X_train, y_train)"
   ]
  },
  {
   "cell_type": "code",
   "execution_count": 40,
   "metadata": {
    "collapsed": true
   },
   "outputs": [],
   "source": [
    "y_predict = knn_clif.predict(X_test)"
   ]
  },
  {
   "cell_type": "code",
   "execution_count": 41,
   "metadata": {
    "collapsed": true
   },
   "outputs": [],
   "source": [
    "from sklearn.metrics import accuracy_score"
   ]
  },
  {
   "cell_type": "code",
   "execution_count": 42,
   "metadata": {},
   "outputs": [
    {
     "data": {
      "text/plain": [
       "0.98888888888888893"
      ]
     },
     "execution_count": 42,
     "metadata": {},
     "output_type": "execute_result"
    }
   ],
   "source": [
    "accuracy_score(y_test, y_predict)"
   ]
  },
  {
   "cell_type": "code",
   "execution_count": 44,
   "metadata": {},
   "outputs": [
    {
     "data": {
      "text/plain": [
       "0.98888888888888893"
      ]
     },
     "execution_count": 44,
     "metadata": {},
     "output_type": "execute_result"
    }
   ],
   "source": [
    "knn_clif.score(X_test, y_test)"
   ]
  },
  {
   "cell_type": "markdown",
   "metadata": {
    "collapsed": true
   },
   "source": [
    "### 超参数\n",
    "* 超参数：在算法运行前需要决定的参数\n",
    "* 模型参数：算法过程中学习的参数\n",
    "\n",
    "    寻找好的参数：\n",
    "        领域知识\n",
    "        经验数值"
   ]
  },
  {
   "cell_type": "code",
   "execution_count": 9,
   "metadata": {
    "collapsed": true
   },
   "outputs": [],
   "source": [
    "import numpy as np\n",
    "from sklearn import datasets"
   ]
  },
  {
   "cell_type": "code",
   "execution_count": 10,
   "metadata": {
    "collapsed": true
   },
   "outputs": [],
   "source": [
    "digits = datasets.load_digits()\n",
    "X = digits.data\n",
    "y = digits.target"
   ]
  },
  {
   "cell_type": "code",
   "execution_count": 11,
   "metadata": {
    "collapsed": true
   },
   "outputs": [],
   "source": [
    "from sklearn.model_selection import train_test_split"
   ]
  },
  {
   "cell_type": "code",
   "execution_count": 12,
   "metadata": {
    "collapsed": true
   },
   "outputs": [],
   "source": [
    "X_train, X_test, y_train, y_test = train_test_split(X, y, test_size = 0.2)"
   ]
  },
  {
   "cell_type": "code",
   "execution_count": 9,
   "metadata": {
    "collapsed": true
   },
   "outputs": [],
   "source": [
    "from sklearn.neighbors import KNeighborsClassifier"
   ]
  },
  {
   "cell_type": "code",
   "execution_count": 10,
   "metadata": {
    "collapsed": true
   },
   "outputs": [],
   "source": [
    "knn = KNeighborsClassifier(n_neighbors = 3)"
   ]
  },
  {
   "cell_type": "code",
   "execution_count": 11,
   "metadata": {},
   "outputs": [
    {
     "data": {
      "text/plain": [
       "KNeighborsClassifier(algorithm='auto', leaf_size=30, metric='minkowski',\n",
       "           metric_params=None, n_jobs=1, n_neighbors=3, p=2,\n",
       "           weights='uniform')"
      ]
     },
     "execution_count": 11,
     "metadata": {},
     "output_type": "execute_result"
    }
   ],
   "source": [
    "knn.fit(X_train, y_train)"
   ]
  },
  {
   "cell_type": "code",
   "execution_count": 14,
   "metadata": {
    "collapsed": true
   },
   "outputs": [],
   "source": [
    "y_predict = knn.predict(X_test)"
   ]
  },
  {
   "cell_type": "code",
   "execution_count": 16,
   "metadata": {},
   "outputs": [
    {
     "data": {
      "text/plain": [
       "0.98888888888888893"
      ]
     },
     "execution_count": 16,
     "metadata": {},
     "output_type": "execute_result"
    }
   ],
   "source": [
    "knn.score(X_test, y_test)"
   ]
  },
  {
   "cell_type": "code",
   "execution_count": 18,
   "metadata": {
    "collapsed": true
   },
   "outputs": [],
   "source": [
    "from sklearn.metrics import accuracy_score"
   ]
  },
  {
   "cell_type": "code",
   "execution_count": 19,
   "metadata": {},
   "outputs": [
    {
     "data": {
      "text/plain": [
       "0.98888888888888893"
      ]
     },
     "execution_count": 19,
     "metadata": {},
     "output_type": "execute_result"
    }
   ],
   "source": [
    "accuracy_score(y_predict, y_test)"
   ]
  },
  {
   "cell_type": "markdown",
   "metadata": {},
   "source": [
    "### 寻找最好的k\n"
   ]
  },
  {
   "cell_type": "code",
   "execution_count": 23,
   "metadata": {},
   "outputs": [
    {
     "name": "stdout",
     "output_type": "stream",
     "text": [
      "best_k =  3\n",
      "best_k =  0.986111111111\n"
     ]
    }
   ],
   "source": [
    "best_score = 0.0\n",
    "best_k = -1\n",
    "for k in range(1, 11):\n",
    "    knn = KNeighborsClassifier(n_neighbors = k)\n",
    "    knn.fit(X_train, y_train)\n",
    "    score = knn.score(X_test, y_test)\n",
    "    if score > best_score:\n",
    "        best_score = score\n",
    "        best_k = k\n",
    "\n",
    "        \n",
    "print(\"best_k = \", best_k)\n",
    "print(\"best_k = \", best_score)"
   ]
  },
  {
   "cell_type": "markdown",
   "metadata": {},
   "source": [
    "### 考虑距离的权重"
   ]
  },
  {
   "cell_type": "code",
   "execution_count": 26,
   "metadata": {},
   "outputs": [
    {
     "name": "stdout",
     "output_type": "stream",
     "text": [
      "best_method= uniform\n",
      "best_k =  3\n",
      "best_score =  0.986111111111\n"
     ]
    }
   ],
   "source": [
    "best_method = ''\n",
    "best_score = 0.0\n",
    "best_k = -1\n",
    "for method in [\"uniform\", \"distance\"]:\n",
    "    for k in range(1,11):\n",
    "        knn = KNeighborsClassifier(n_neighbors = k, weights = method)\n",
    "        knn.fit(X_train, y_train)\n",
    "        score = knn.score(X_test, y_test)\n",
    "        if score>best_score:\n",
    "            best_k = k\n",
    "            best_method = method\n",
    "            best_score = score\n",
    "\n",
    "print('best_method=', best_method)\n",
    "print('best_k = ', best_k)\n",
    "print('best_score = ', best_score)"
   ]
  },
  {
   "cell_type": "markdown",
   "metadata": {},
   "source": [
    "### 曼哈顿距离：每个维度上的差值的绝对值之和\n",
    "### 欧拉距离：每个维度上的差值的平方之和的平方根\n",
    "### 闵可夫斯基距离： 每个维度上的距离绝对值的p次方之和的p次方根\n",
    "\n",
    "##### 从明科夫斯基的中得出一个新的超参数：p\n"
   ]
  },
  {
   "cell_type": "code",
   "execution_count": 27,
   "metadata": {},
   "outputs": [
    {
     "name": "stdout",
     "output_type": "stream",
     "text": [
      "best_p =  1\n",
      "best_k =  3\n",
      "best_score =  0.986111111111\n"
     ]
    }
   ],
   "source": [
    "best_p = -1\n",
    "best_score = 0.0\n",
    "best_k = -1\n",
    "\n",
    "for k in range(1,11):\n",
    "    for p in range(1,6):\n",
    "        knn = KNeighborsClassifier(n_neighbors = k, weights = \"distance\")\n",
    "        knn.fit(X_train, y_train)\n",
    "        score  = knn.score(X_test, y_test)\n",
    "        if score > best_score:\n",
    "            best_score = score\n",
    "            best_k = k\n",
    "            best_p = p\n",
    "            \n",
    "print(\"best_p = \", best_p)\n",
    "print(\"best_k = \", best_k)\n",
    "print(\"best_score = \", best_score)"
   ]
  },
  {
   "cell_type": "markdown",
   "metadata": {
    "collapsed": true
   },
   "source": [
    "### 网格搜索   Grid Search"
   ]
  },
  {
   "cell_type": "code",
   "execution_count": 1,
   "metadata": {
    "collapsed": true
   },
   "outputs": [],
   "source": [
    "param_grid = [\n",
    "    {\n",
    "        'weights':['uniform'],\n",
    "        'n_neighbors':[i for i in range(1,11)]\n",
    "    },\n",
    "    {\n",
    "        'weights':['distance'],\n",
    "        'n_neighbors': [i for i in range(1,11)],\n",
    "        'p': [i for i in range(1,6)]\n",
    "    }\n",
    "]"
   ]
  },
  {
   "cell_type": "code",
   "execution_count": 5,
   "metadata": {
    "collapsed": true
   },
   "outputs": [],
   "source": [
    "from sklearn.neighbors import KNeighborsClassifier\n",
    "\n",
    "knn = KNeighborsClassifier()"
   ]
  },
  {
   "cell_type": "code",
   "execution_count": 6,
   "metadata": {
    "collapsed": true
   },
   "outputs": [],
   "source": [
    "from sklearn.model_selection import GridSearchCV"
   ]
  },
  {
   "cell_type": "code",
   "execution_count": 7,
   "metadata": {
    "collapsed": true
   },
   "outputs": [],
   "source": [
    "grid_search = GridSearchCV(knn, param_grid)"
   ]
  },
  {
   "cell_type": "code",
   "execution_count": 14,
   "metadata": {},
   "outputs": [
    {
     "name": "stdout",
     "output_type": "stream",
     "text": [
      "Wall time: 3min 2s\n"
     ]
    },
    {
     "data": {
      "text/plain": [
       "GridSearchCV(cv=None, error_score='raise',\n",
       "       estimator=KNeighborsClassifier(algorithm='auto', leaf_size=30, metric='minkowski',\n",
       "           metric_params=None, n_jobs=1, n_neighbors=5, p=2,\n",
       "           weights='uniform'),\n",
       "       fit_params=None, iid=True, n_jobs=1,\n",
       "       param_grid=[{'weights': ['uniform'], 'n_neighbors': [1, 2, 3, 4, 5, 6, 7, 8, 9, 10]}, {'weights': ['distance'], 'n_neighbors': [1, 2, 3, 4, 5, 6, 7, 8, 9, 10], 'p': [1, 2, 3, 4, 5]}],\n",
       "       pre_dispatch='2*n_jobs', refit=True, return_train_score='warn',\n",
       "       scoring=None, verbose=0)"
      ]
     },
     "execution_count": 14,
     "metadata": {},
     "output_type": "execute_result"
    }
   ],
   "source": [
    "%%time\n",
    "grid_search.fit(X_train , y_train)"
   ]
  },
  {
   "cell_type": "code",
   "execution_count": 15,
   "metadata": {},
   "outputs": [
    {
     "data": {
      "text/plain": [
       "KNeighborsClassifier(algorithm='auto', leaf_size=30, metric='minkowski',\n",
       "           metric_params=None, n_jobs=1, n_neighbors=1, p=2,\n",
       "           weights='uniform')"
      ]
     },
     "execution_count": 15,
     "metadata": {},
     "output_type": "execute_result"
    }
   ],
   "source": [
    "grid_search.best_estimator_"
   ]
  },
  {
   "cell_type": "code",
   "execution_count": 17,
   "metadata": {},
   "outputs": [
    {
     "data": {
      "text/plain": [
       "0.98747390396659707"
      ]
     },
     "execution_count": 17,
     "metadata": {},
     "output_type": "execute_result"
    }
   ],
   "source": [
    "grid_search.best_score_\n"
   ]
  },
  {
   "cell_type": "code",
   "execution_count": 18,
   "metadata": {},
   "outputs": [
    {
     "data": {
      "text/plain": [
       "{'n_neighbors': 1, 'weights': 'uniform'}"
      ]
     },
     "execution_count": 18,
     "metadata": {},
     "output_type": "execute_result"
    }
   ],
   "source": [
    "grid_search.best_params_"
   ]
  },
  {
   "cell_type": "code",
   "execution_count": 19,
   "metadata": {
    "collapsed": true
   },
   "outputs": [],
   "source": [
    "knn = grid_search.best_estimator_\n"
   ]
  },
  {
   "cell_type": "code",
   "execution_count": 20,
   "metadata": {
    "scrolled": true
   },
   "outputs": [
    {
     "data": {
      "text/plain": [
       "array([1, 6, 2, 0, 2, 7, 0, 8, 6, 6, 3, 5, 8, 8, 7, 3, 0, 1, 0, 4, 7, 9, 7,\n",
       "       4, 4, 9, 1, 3, 2, 1, 6, 9, 2, 1, 6, 0, 0, 5, 6, 4, 8, 8, 7, 1, 3, 8,\n",
       "       5, 4, 4, 4, 3, 8, 1, 3, 5, 3, 0, 1, 9, 7, 4, 1, 3, 5, 8, 0, 6, 6, 4,\n",
       "       2, 6, 5, 2, 6, 6, 2, 2, 7, 2, 0, 5, 6, 7, 6, 0, 8, 7, 9, 6, 6, 0, 6,\n",
       "       5, 5, 0, 9, 6, 6, 7, 8, 3, 7, 1, 1, 5, 4, 8, 2, 5, 7, 8, 1, 5, 7, 5,\n",
       "       3, 3, 2, 0, 3, 7, 4, 7, 5, 2, 9, 4, 4, 7, 8, 3, 3, 3, 6, 0, 6, 0, 8,\n",
       "       6, 9, 8, 9, 9, 2, 9, 5, 0, 4, 0, 1, 4, 7, 2, 2, 0, 1, 1, 9, 9, 0, 6,\n",
       "       9, 8, 7, 0, 0, 0, 8, 0, 7, 5, 5, 1, 6, 0, 3, 3, 8, 6, 7, 7, 4, 1, 7,\n",
       "       9, 4, 1, 4, 4, 0, 3, 6, 2, 0, 0, 7, 1, 9, 7, 7, 8, 3, 4, 4, 4, 4, 1,\n",
       "       4, 3, 1, 4, 3, 8, 9, 4, 1, 4, 1, 5, 6, 9, 8, 9, 6, 1, 7, 5, 9, 5, 5,\n",
       "       3, 7, 1, 7, 3, 8, 1, 1, 2, 3, 5, 8, 4, 4, 3, 5, 1, 3, 8, 9, 5, 9, 0,\n",
       "       7, 4, 2, 3, 5, 5, 5, 5, 4, 7, 8, 2, 2, 2, 7, 3, 4, 8, 1, 5, 6, 3, 4,\n",
       "       0, 4, 4, 1, 9, 1, 3, 8, 0, 7, 7, 5, 1, 0, 8, 2, 0, 8, 7, 9, 5, 3, 1,\n",
       "       0, 5, 3, 9, 8, 4, 9, 7, 8, 8, 2, 6, 7, 7, 6, 8, 4, 5, 6, 1, 0, 5, 3,\n",
       "       0, 2, 3, 6, 4, 2, 0, 7, 8, 3, 5, 5, 8, 0, 6, 1, 4, 0, 3, 0, 9, 1, 2,\n",
       "       1, 7, 2, 0, 1, 8, 8, 6, 6, 6, 0, 4, 9, 1, 7])"
      ]
     },
     "execution_count": 20,
     "metadata": {},
     "output_type": "execute_result"
    }
   ],
   "source": [
    "knn.predict(X_test)"
   ]
  },
  {
   "cell_type": "code",
   "execution_count": 21,
   "metadata": {
    "scrolled": false
   },
   "outputs": [
    {
     "data": {
      "text/plain": [
       "0.98333333333333328"
      ]
     },
     "execution_count": 21,
     "metadata": {},
     "output_type": "execute_result"
    }
   ],
   "source": [
    "knn.score(X_test, y_test)"
   ]
  },
  {
   "cell_type": "code",
   "execution_count": 24,
   "metadata": {
    "scrolled": false
   },
   "outputs": [
    {
     "name": "stdout",
     "output_type": "stream",
     "text": [
      "Fitting 3 folds for each of 60 candidates, totalling 180 fits\n"
     ]
    },
    {
     "name": "stderr",
     "output_type": "stream",
     "text": [
      "[Parallel(n_jobs=-1)]: Done  33 tasks      | elapsed:    3.6s\n",
      "[Parallel(n_jobs=-1)]: Done 154 tasks      | elapsed:  1.1min\n"
     ]
    },
    {
     "name": "stdout",
     "output_type": "stream",
     "text": [
      "Wall time: 1min 27s\n"
     ]
    },
    {
     "name": "stderr",
     "output_type": "stream",
     "text": [
      "[Parallel(n_jobs=-1)]: Done 180 out of 180 | elapsed:  1.4min finished\n"
     ]
    }
   ],
   "source": [
    "%%time\n",
    "grid_search = GridSearchCV(knn, param_grid, n_jobs = -1, verbose = 2)\n",
    "grid_search.fit(X_train, y_train)"
   ]
  },
  {
   "cell_type": "markdown",
   "metadata": {},
   "source": [
    "### 更多的距离定义\n",
    "* Cosine Similarity\n",
    "* Adjusted Cosine Similarity"
   ]
  },
  {
   "cell_type": "markdown",
   "metadata": {},
   "source": [
    "### 数据归一化  Feature Scaling\n",
    "* 解决方案： 将所有的数据映射到统一尺度\n",
    "* 最值归一化： 把所有的数据映射到0-1之间\n",
    "    使用于分布有明显边界的情况；受到outlier影响较大\n",
    "* 均值方差归一化：将所有数据归一到均值为0方差为1的分布中\n",
    "    数据分布没有明显的边界；有可能存在极端数据值"
   ]
  },
  {
   "cell_type": "code",
   "execution_count": 25,
   "metadata": {
    "collapsed": true
   },
   "outputs": [],
   "source": [
    "import numpy as np\n",
    "import matplotlib.pyplot as plt"
   ]
  },
  {
   "cell_type": "markdown",
   "metadata": {},
   "source": [
    "##### 最值归一化"
   ]
  },
  {
   "cell_type": "code",
   "execution_count": 26,
   "metadata": {
    "collapsed": true
   },
   "outputs": [],
   "source": [
    "x = np.random.randint(0, 100, size = 100)"
   ]
  },
  {
   "cell_type": "code",
   "execution_count": 27,
   "metadata": {},
   "outputs": [
    {
     "data": {
      "text/plain": [
       "array([73, 40, 96, 85,  3, 91, 90, 55, 20, 51, 62, 41, 94, 58, 20, 85, 56,\n",
       "       63, 21, 29, 84, 89, 53, 79, 40, 28, 22, 55,  4, 59, 65, 18, 45, 25,\n",
       "       59, 61, 43, 64, 67, 78, 27, 95, 81, 32, 74, 88, 73, 31, 59, 48, 22,\n",
       "       86, 45, 74, 85, 39, 59, 27, 59, 87, 15, 73, 14, 28, 62, 44, 96, 73,\n",
       "       33, 15, 85, 59, 78, 44, 31, 34, 39, 35, 80, 64,  8, 44,  3, 69, 84,\n",
       "       83, 75, 47, 88, 31, 77, 40, 10, 45,  4, 67, 70, 44, 97,  8])"
      ]
     },
     "execution_count": 27,
     "metadata": {},
     "output_type": "execute_result"
    }
   ],
   "source": [
    "x"
   ]
  },
  {
   "cell_type": "code",
   "execution_count": 28,
   "metadata": {},
   "outputs": [
    {
     "data": {
      "text/plain": [
       "array([ 0.74468085,  0.39361702,  0.9893617 ,  0.87234043,  0.        ,\n",
       "        0.93617021,  0.92553191,  0.55319149,  0.18085106,  0.5106383 ,\n",
       "        0.62765957,  0.40425532,  0.96808511,  0.58510638,  0.18085106,\n",
       "        0.87234043,  0.56382979,  0.63829787,  0.19148936,  0.27659574,\n",
       "        0.86170213,  0.91489362,  0.53191489,  0.80851064,  0.39361702,\n",
       "        0.26595745,  0.20212766,  0.55319149,  0.0106383 ,  0.59574468,\n",
       "        0.65957447,  0.15957447,  0.44680851,  0.23404255,  0.59574468,\n",
       "        0.61702128,  0.42553191,  0.64893617,  0.68085106,  0.79787234,\n",
       "        0.25531915,  0.9787234 ,  0.82978723,  0.30851064,  0.75531915,\n",
       "        0.90425532,  0.74468085,  0.29787234,  0.59574468,  0.4787234 ,\n",
       "        0.20212766,  0.88297872,  0.44680851,  0.75531915,  0.87234043,\n",
       "        0.38297872,  0.59574468,  0.25531915,  0.59574468,  0.89361702,\n",
       "        0.12765957,  0.74468085,  0.11702128,  0.26595745,  0.62765957,\n",
       "        0.43617021,  0.9893617 ,  0.74468085,  0.31914894,  0.12765957,\n",
       "        0.87234043,  0.59574468,  0.79787234,  0.43617021,  0.29787234,\n",
       "        0.32978723,  0.38297872,  0.34042553,  0.81914894,  0.64893617,\n",
       "        0.05319149,  0.43617021,  0.        ,  0.70212766,  0.86170213,\n",
       "        0.85106383,  0.76595745,  0.46808511,  0.90425532,  0.29787234,\n",
       "        0.78723404,  0.39361702,  0.07446809,  0.44680851,  0.0106383 ,\n",
       "        0.68085106,  0.71276596,  0.43617021,  1.        ,  0.05319149])"
      ]
     },
     "execution_count": 28,
     "metadata": {},
     "output_type": "execute_result"
    }
   ],
   "source": [
    "(x-np.min(x)) / (np.max(x) - np.min(x))"
   ]
  },
  {
   "cell_type": "code",
   "execution_count": 29,
   "metadata": {
    "collapsed": true
   },
   "outputs": [],
   "source": [
    "x = np.random.randint(0, 100, (50,2))"
   ]
  },
  {
   "cell_type": "code",
   "execution_count": 30,
   "metadata": {},
   "outputs": [
    {
     "data": {
      "text/plain": [
       "array([[ 7, 58],\n",
       "       [48, 87],\n",
       "       [79, 24],\n",
       "       [48,  9],\n",
       "       [62, 79],\n",
       "       [85, 48],\n",
       "       [63, 44],\n",
       "       [57, 23],\n",
       "       [27, 96],\n",
       "       [93, 77]])"
      ]
     },
     "execution_count": 30,
     "metadata": {},
     "output_type": "execute_result"
    }
   ],
   "source": [
    "x[:10, :\n",
    " ]"
   ]
  },
  {
   "cell_type": "code",
   "execution_count": 31,
   "metadata": {
    "collapsed": true
   },
   "outputs": [],
   "source": [
    "x = np.array(x, dtype = float)"
   ]
  },
  {
   "cell_type": "code",
   "execution_count": 32,
   "metadata": {},
   "outputs": [
    {
     "data": {
      "text/plain": [
       "array([[  7.,  58.],\n",
       "       [ 48.,  87.],\n",
       "       [ 79.,  24.],\n",
       "       [ 48.,   9.],\n",
       "       [ 62.,  79.],\n",
       "       [ 85.,  48.],\n",
       "       [ 63.,  44.],\n",
       "       [ 57.,  23.],\n",
       "       [ 27.,  96.],\n",
       "       [ 93.,  77.],\n",
       "       [  9.,  27.],\n",
       "       [ 21.,  46.],\n",
       "       [ 65.,  90.],\n",
       "       [ 54.,  67.],\n",
       "       [ 31.,  73.],\n",
       "       [ 14.,   4.],\n",
       "       [ 83.,  37.],\n",
       "       [ 94.,   8.],\n",
       "       [ 38.,  42.],\n",
       "       [ 10.,  85.],\n",
       "       [ 56.,  48.],\n",
       "       [ 33.,  24.],\n",
       "       [ 28.,   2.],\n",
       "       [ 81.,  11.],\n",
       "       [ 49.,  36.],\n",
       "       [ 11.,  52.],\n",
       "       [ 29.,  19.],\n",
       "       [ 34.,  60.],\n",
       "       [ 20.,  22.],\n",
       "       [ 62.,  83.],\n",
       "       [ 17.,  79.],\n",
       "       [ 65.,  41.],\n",
       "       [ 69.,  58.],\n",
       "       [ 97.,  48.],\n",
       "       [ 22.,   5.],\n",
       "       [ 11.,  55.],\n",
       "       [ 24.,  27.],\n",
       "       [ 75.,  87.],\n",
       "       [ 11.,  44.],\n",
       "       [ 55.,  54.],\n",
       "       [ 81.,  62.],\n",
       "       [ 28.,  67.],\n",
       "       [ 83.,   7.],\n",
       "       [ 53.,  84.],\n",
       "       [ 60.,  50.],\n",
       "       [ 38.,  53.],\n",
       "       [ 67.,  87.],\n",
       "       [ 63.,  60.],\n",
       "       [ 70.,  36.],\n",
       "       [ 78.,  89.]])"
      ]
     },
     "execution_count": 32,
     "metadata": {},
     "output_type": "execute_result"
    }
   ],
   "source": [
    "x"
   ]
  },
  {
   "cell_type": "code",
   "execution_count": 35,
   "metadata": {
    "collapsed": true
   },
   "outputs": [],
   "source": [
    "x[:,0] = (x[:,0]-np.min(x[:,0])) / (np.max(x[:,0])-np.min(x[:,0]))"
   ]
  },
  {
   "cell_type": "code",
   "execution_count": 37,
   "metadata": {},
   "outputs": [
    {
     "data": {
      "text/plain": [
       "array([ 0.        ,  0.45555556,  0.8       ,  0.45555556,  0.61111111,\n",
       "        0.86666667,  0.62222222,  0.55555556,  0.22222222,  0.95555556])"
      ]
     },
     "execution_count": 37,
     "metadata": {},
     "output_type": "execute_result"
    }
   ],
   "source": [
    "x[:10,0]"
   ]
  },
  {
   "cell_type": "markdown",
   "metadata": {},
   "source": [
    "##### 均值方差归一化\n",
    "* 不能解决数据偏值很大的数据"
   ]
  },
  {
   "cell_type": "code",
   "execution_count": 38,
   "metadata": {
    "collapsed": true
   },
   "outputs": [],
   "source": [
    "x2 =  np.random.randint(0, 100 ,(50,2))"
   ]
  },
  {
   "cell_type": "code",
   "execution_count": 39,
   "metadata": {
    "collapsed": true
   },
   "outputs": [],
   "source": [
    "x2 = np.array(x2, dtype = float)"
   ]
  },
  {
   "cell_type": "code",
   "execution_count": 45,
   "metadata": {
    "collapsed": true
   },
   "outputs": [],
   "source": [
    "x2[:,0] = (x2[:,0] - np.mean(x2[:,0]))/np.std(x2[:,0])"
   ]
  },
  {
   "cell_type": "code",
   "execution_count": 46,
   "metadata": {
    "collapsed": true
   },
   "outputs": [],
   "source": [
    "x2[:,1] = (x2[:,1] - np.mean(x2[:,1]))/np.std(x2[:,1])"
   ]
  },
  {
   "cell_type": "code",
   "execution_count": 48,
   "metadata": {},
   "outputs": [
    {
     "data": {
      "text/plain": [
       "array([[ 0.73553579, -1.62474272],\n",
       "       [ 0.32933506,  0.3003079 ],\n",
       "       [-0.85802094,  0.93032446],\n",
       "       [ 0.64179716, -0.39971051],\n",
       "       [-1.3579603 , -0.85472248],\n",
       "       [ 1.07924411, -0.57471511],\n",
       "       [-1.26422167, -1.27473352],\n",
       "       [ 0.70428958,  0.37030974],\n",
       "       [-1.26422167,  1.35033551],\n",
       "       [-1.13923683,  0.54531434],\n",
       "       [-0.85802094, -0.74971971],\n",
       "       [ 0.98550548,  1.03532722],\n",
       "       [-0.04561947,  0.40531066],\n",
       "       [-1.26422167, -0.01470039],\n",
       "       [-0.54555883,  1.14032999],\n",
       "       [ 0.07936537,  1.17533091],\n",
       "       [-1.0454982 ,  0.4753125 ],\n",
       "       [ 1.48544484, -1.62474272],\n",
       "       [-0.85802094,  1.31533459],\n",
       "       [-1.3579603 , -0.71471879],\n",
       "       [-0.98300578, -0.25970683],\n",
       "       [-1.32671409,  1.59534195],\n",
       "       [ 0.67304337,  1.38533643],\n",
       "       [ 1.32921379, -0.36470959],\n",
       "       [ 1.26672137,  0.93032446],\n",
       "       [ 1.11049032,  0.02030053],\n",
       "       [-0.70178989, -1.30973444],\n",
       "       [ 1.26672137,  1.03532722],\n",
       "       [-1.51419136, -1.86974917],\n",
       "       [ 0.95425927, -0.57471511],\n",
       "       [ 0.4543199 , -1.27473352],\n",
       "       [-0.10811189, -0.64471695],\n",
       "       [-0.7330361 , -0.15470407],\n",
       "       [-0.79552852, -0.43471143],\n",
       "       [ 1.57918347, -0.50471327],\n",
       "       [ 0.42307369,  1.56034103],\n",
       "       [ 0.61055095, -1.83474825],\n",
       "       [ 1.32921379,  1.49033919],\n",
       "       [ 1.07924411,  0.68531802],\n",
       "       [-0.7330361 ,  0.75531986],\n",
       "       [-0.20185052, -1.62474272],\n",
       "       [ 1.45419863, -0.85472248],\n",
       "       [-0.95175957,  0.09030237],\n",
       "       [-0.48306641,  0.23030606],\n",
       "       [ 1.36046   , -0.64471695],\n",
       "       [ 1.01675169,  1.03532722],\n",
       "       [ 0.98550548, -1.16973076],\n",
       "       [-0.92051336, -0.25970683],\n",
       "       [-0.35808157,  0.6503171 ],\n",
       "       [-1.26422167,  1.10532907]])"
      ]
     },
     "execution_count": 48,
     "metadata": {},
     "output_type": "execute_result"
    }
   ],
   "source": [
    "x2"
   ]
  },
  {
   "cell_type": "code",
   "execution_count": 49,
   "metadata": {},
   "outputs": [
    {
     "data": {
      "text/plain": [
       "<matplotlib.collections.PathCollection at 0x27b128b4b38>"
      ]
     },
     "execution_count": 49,
     "metadata": {},
     "output_type": "execute_result"
    }
   ],
   "source": [
    "plt.scatter(x2[:,0], x2[:,1])"
   ]
  },
  {
   "cell_type": "code",
   "execution_count": 50,
   "metadata": {},
   "outputs": [
    {
     "data": {
      "image/png": "[encoded data removed]",
      "text/plain": [
       "<matplotlib.figure.Figure at 0x27b1223eda0>"
      ]
     },
     "metadata": {},
     "output_type": "display_data"
    }
   ],
   "source": [
    "plt.show()"
   ]
  },
  {
   "cell_type": "code",
   "execution_count": 52,
   "metadata": {},
   "outputs": [
    {
     "data": {
      "text/plain": [
       "-4.4408920985006264e-17"
      ]
     },
     "execution_count": 52,
     "metadata": {},
     "output_type": "execute_result"
    }
   ],
   "source": [
    "np.mean(x2[:,0])"
   ]
  },
  {
   "cell_type": "code",
   "execution_count": 54,
   "metadata": {},
   "outputs": [
    {
     "data": {
      "text/plain": [
       "0.99999999999999989"
      ]
     },
     "execution_count": 54,
     "metadata": {},
     "output_type": "execute_result"
    }
   ],
   "source": [
    "np.std(x2[:, 1])"
   ]
  },
  {
   "cell_type": "markdown",
   "metadata": {},
   "source": [
    "### 对测试数据集进行归一化\n",
    "\n",
    "* ‘测试数据集是模拟真实环境’\n",
    "     真实环境很有可能无法得到所有测试数据的均值和方差\n",
    "     对数据的归一化也是算法的一部分\n",
    "     所以测试数据进行归一化时，需要用到测试数据的均值和方差\n",
    "     (X_test - mean_train)/std_train\n",
    "     要保存测试数据值的均值和方差"
   ]
  },
  {
   "cell_type": "code",
   "execution_count": 86,
   "metadata": {
    "collapsed": true
   },
   "outputs": [],
   "source": [
    "from sklearn import datasets"
   ]
  },
  {
   "cell_type": "code",
   "execution_count": 87,
   "metadata": {
    "collapsed": true
   },
   "outputs": [],
   "source": [
    "iris = datasets.load_iris()"
   ]
  },
  {
   "cell_type": "code",
   "execution_count": 88,
   "metadata": {
    "collapsed": true
   },
   "outputs": [],
   "source": [
    "X = iris.data"
   ]
  },
  {
   "cell_type": "code",
   "execution_count": 89,
   "metadata": {
    "collapsed": true
   },
   "outputs": [],
   "source": [
    "y = iris.target"
   ]
  },
  {
   "cell_type": "code",
   "execution_count": 103,
   "metadata": {},
   "outputs": [
    {
     "data": {
      "text/plain": [
       "array([[ 5.1,  3.5,  1.4,  0.2],\n",
       "       [ 4.9,  3. ,  1.4,  0.2],\n",
       "       [ 4.7,  3.2,  1.3,  0.2],\n",
       "       [ 4.6,  3.1,  1.5,  0.2],\n",
       "       [ 5. ,  3.6,  1.4,  0.2],\n",
       "       [ 5.4,  3.9,  1.7,  0.4],\n",
       "       [ 4.6,  3.4,  1.4,  0.3],\n",
       "       [ 5. ,  3.4,  1.5,  0.2],\n",
       "       [ 4.4,  2.9,  1.4,  0.2],\n",
       "       [ 4.9,  3.1,  1.5,  0.1],\n",
       "       [ 5.4,  3.7,  1.5,  0.2],\n",
       "       [ 4.8,  3.4,  1.6,  0.2],\n",
       "       [ 4.8,  3. ,  1.4,  0.1],\n",
       "       [ 4.3,  3. ,  1.1,  0.1],\n",
       "       [ 5.8,  4. ,  1.2,  0.2],\n",
       "       [ 5.7,  4.4,  1.5,  0.4],\n",
       "       [ 5.4,  3.9,  1.3,  0.4],\n",
       "       [ 5.1,  3.5,  1.4,  0.3],\n",
       "       [ 5.7,  3.8,  1.7,  0.3],\n",
       "       [ 5.1,  3.8,  1.5,  0.3],\n",
       "       [ 5.4,  3.4,  1.7,  0.2],\n",
       "       [ 5.1,  3.7,  1.5,  0.4],\n",
       "       [ 4.6,  3.6,  1. ,  0.2],\n",
       "       [ 5.1,  3.3,  1.7,  0.5],\n",
       "       [ 4.8,  3.4,  1.9,  0.2],\n",
       "       [ 5. ,  3. ,  1.6,  0.2],\n",
       "       [ 5. ,  3.4,  1.6,  0.4],\n",
       "       [ 5.2,  3.5,  1.5,  0.2],\n",
       "       [ 5.2,  3.4,  1.4,  0.2],\n",
       "       [ 4.7,  3.2,  1.6,  0.2],\n",
       "       [ 4.8,  3.1,  1.6,  0.2],\n",
       "       [ 5.4,  3.4,  1.5,  0.4],\n",
       "       [ 5.2,  4.1,  1.5,  0.1],\n",
       "       [ 5.5,  4.2,  1.4,  0.2],\n",
       "       [ 4.9,  3.1,  1.5,  0.1],\n",
       "       [ 5. ,  3.2,  1.2,  0.2],\n",
       "       [ 5.5,  3.5,  1.3,  0.2],\n",
       "       [ 4.9,  3.1,  1.5,  0.1],\n",
       "       [ 4.4,  3. ,  1.3,  0.2],\n",
       "       [ 5.1,  3.4,  1.5,  0.2],\n",
       "       [ 5. ,  3.5,  1.3,  0.3],\n",
       "       [ 4.5,  2.3,  1.3,  0.3],\n",
       "       [ 4.4,  3.2,  1.3,  0.2],\n",
       "       [ 5. ,  3.5,  1.6,  0.6],\n",
       "       [ 5.1,  3.8,  1.9,  0.4],\n",
       "       [ 4.8,  3. ,  1.4,  0.3],\n",
       "       [ 5.1,  3.8,  1.6,  0.2],\n",
       "       [ 4.6,  3.2,  1.4,  0.2],\n",
       "       [ 5.3,  3.7,  1.5,  0.2],\n",
       "       [ 5. ,  3.3,  1.4,  0.2],\n",
       "       [ 7. ,  3.2,  4.7,  1.4],\n",
       "       [ 6.4,  3.2,  4.5,  1.5],\n",
       "       [ 6.9,  3.1,  4.9,  1.5],\n",
       "       [ 5.5,  2.3,  4. ,  1.3],\n",
       "       [ 6.5,  2.8,  4.6,  1.5],\n",
       "       [ 5.7,  2.8,  4.5,  1.3],\n",
       "       [ 6.3,  3.3,  4.7,  1.6],\n",
       "       [ 4.9,  2.4,  3.3,  1. ],\n",
       "       [ 6.6,  2.9,  4.6,  1.3],\n",
       "       [ 5.2,  2.7,  3.9,  1.4],\n",
       "       [ 5. ,  2. ,  3.5,  1. ],\n",
       "       [ 5.9,  3. ,  4.2,  1.5],\n",
       "       [ 6. ,  2.2,  4. ,  1. ],\n",
       "       [ 6.1,  2.9,  4.7,  1.4],\n",
       "       [ 5.6,  2.9,  3.6,  1.3],\n",
       "       [ 6.7,  3.1,  4.4,  1.4],\n",
       "       [ 5.6,  3. ,  4.5,  1.5],\n",
       "       [ 5.8,  2.7,  4.1,  1. ],\n",
       "       [ 6.2,  2.2,  4.5,  1.5],\n",
       "       [ 5.6,  2.5,  3.9,  1.1],\n",
       "       [ 5.9,  3.2,  4.8,  1.8],\n",
       "       [ 6.1,  2.8,  4. ,  1.3],\n",
       "       [ 6.3,  2.5,  4.9,  1.5],\n",
       "       [ 6.1,  2.8,  4.7,  1.2],\n",
       "       [ 6.4,  2.9,  4.3,  1.3],\n",
       "       [ 6.6,  3. ,  4.4,  1.4],\n",
       "       [ 6.8,  2.8,  4.8,  1.4],\n",
       "       [ 6.7,  3. ,  5. ,  1.7],\n",
       "       [ 6. ,  2.9,  4.5,  1.5],\n",
       "       [ 5.7,  2.6,  3.5,  1. ],\n",
       "       [ 5.5,  2.4,  3.8,  1.1],\n",
       "       [ 5.5,  2.4,  3.7,  1. ],\n",
       "       [ 5.8,  2.7,  3.9,  1.2],\n",
       "       [ 6. ,  2.7,  5.1,  1.6],\n",
       "       [ 5.4,  3. ,  4.5,  1.5],\n",
       "       [ 6. ,  3.4,  4.5,  1.6],\n",
       "       [ 6.7,  3.1,  4.7,  1.5],\n",
       "       [ 6.3,  2.3,  4.4,  1.3],\n",
       "       [ 5.6,  3. ,  4.1,  1.3],\n",
       "       [ 5.5,  2.5,  4. ,  1.3],\n",
       "       [ 5.5,  2.6,  4.4,  1.2],\n",
       "       [ 6.1,  3. ,  4.6,  1.4],\n",
       "       [ 5.8,  2.6,  4. ,  1.2],\n",
       "       [ 5. ,  2.3,  3.3,  1. ],\n",
       "       [ 5.6,  2.7,  4.2,  1.3],\n",
       "       [ 5.7,  3. ,  4.2,  1.2],\n",
       "       [ 5.7,  2.9,  4.2,  1.3],\n",
       "       [ 6.2,  2.9,  4.3,  1.3],\n",
       "       [ 5.1,  2.5,  3. ,  1.1],\n",
       "       [ 5.7,  2.8,  4.1,  1.3],\n",
       "       [ 6.3,  3.3,  6. ,  2.5],\n",
       "       [ 5.8,  2.7,  5.1,  1.9],\n",
       "       [ 7.1,  3. ,  5.9,  2.1],\n",
       "       [ 6.3,  2.9,  5.6,  1.8],\n",
       "       [ 6.5,  3. ,  5.8,  2.2],\n",
       "       [ 7.6,  3. ,  6.6,  2.1],\n",
       "       [ 4.9,  2.5,  4.5,  1.7],\n",
       "       [ 7.3,  2.9,  6.3,  1.8],\n",
       "       [ 6.7,  2.5,  5.8,  1.8],\n",
       "       [ 7.2,  3.6,  6.1,  2.5],\n",
       "       [ 6.5,  3.2,  5.1,  2. ],\n",
       "       [ 6.4,  2.7,  5.3,  1.9],\n",
       "       [ 6.8,  3. ,  5.5,  2.1],\n",
       "       [ 5.7,  2.5,  5. ,  2. ],\n",
       "       [ 5.8,  2.8,  5.1,  2.4],\n",
       "       [ 6.4,  3.2,  5.3,  2.3],\n",
       "       [ 6.5,  3. ,  5.5,  1.8],\n",
       "       [ 7.7,  3.8,  6.7,  2.2],\n",
       "       [ 7.7,  2.6,  6.9,  2.3],\n",
       "       [ 6. ,  2.2,  5. ,  1.5],\n",
       "       [ 6.9,  3.2,  5.7,  2.3],\n",
       "       [ 5.6,  2.8,  4.9,  2. ],\n",
       "       [ 7.7,  2.8,  6.7,  2. ],\n",
       "       [ 6.3,  2.7,  4.9,  1.8],\n",
       "       [ 6.7,  3.3,  5.7,  2.1],\n",
       "       [ 7.2,  3.2,  6. ,  1.8],\n",
       "       [ 6.2,  2.8,  4.8,  1.8],\n",
       "       [ 6.1,  3. ,  4.9,  1.8],\n",
       "       [ 6.4,  2.8,  5.6,  2.1],\n",
       "       [ 7.2,  3. ,  5.8,  1.6],\n",
       "       [ 7.4,  2.8,  6.1,  1.9],\n",
       "       [ 7.9,  3.8,  6.4,  2. ],\n",
       "       [ 6.4,  2.8,  5.6,  2.2],\n",
       "       [ 6.3,  2.8,  5.1,  1.5],\n",
       "       [ 6.1,  2.6,  5.6,  1.4],\n",
       "       [ 7.7,  3. ,  6.1,  2.3],\n",
       "       [ 6.3,  3.4,  5.6,  2.4],\n",
       "       [ 6.4,  3.1,  5.5,  1.8],\n",
       "       [ 6. ,  3. ,  4.8,  1.8],\n",
       "       [ 6.9,  3.1,  5.4,  2.1],\n",
       "       [ 6.7,  3.1,  5.6,  2.4],\n",
       "       [ 6.9,  3.1,  5.1,  2.3],\n",
       "       [ 5.8,  2.7,  5.1,  1.9],\n",
       "       [ 6.8,  3.2,  5.9,  2.3],\n",
       "       [ 6.7,  3.3,  5.7,  2.5],\n",
       "       [ 6.7,  3. ,  5.2,  2.3],\n",
       "       [ 6.3,  2.5,  5. ,  1.9],\n",
       "       [ 6.5,  3. ,  5.2,  2. ],\n",
       "       [ 6.2,  3.4,  5.4,  2.3],\n",
       "       [ 5.9,  3. ,  5.1,  1.8]])"
      ]
     },
     "execution_count": 103,
     "metadata": {},
     "output_type": "execute_result"
    }
   ],
   "source": [
    "X"
   ]
  },
  {
   "cell_type": "code",
   "execution_count": 91,
   "metadata": {
    "collapsed": true
   },
   "outputs": [],
   "source": [
    "from sklearn.model_selection import train_test_split"
   ]
  },
  {
   "cell_type": "code",
   "execution_count": 107,
   "metadata": {
    "collapsed": true
   },
   "outputs": [],
   "source": [
    "X_train, X_test, y_train, y_test = train_test_split(iris.data , iris.target)"
   ]
  },
  {
   "cell_type": "code",
   "execution_count": 108,
   "metadata": {},
   "outputs": [
    {
     "data": {
      "text/plain": [
       "array([[ 6.6,  2.9,  4.6,  1.3],\n",
       "       [ 5.7,  2.5,  5. ,  2. ],\n",
       "       [ 5.5,  2.4,  3.7,  1. ],\n",
       "       [ 6.5,  3. ,  5.2,  2. ],\n",
       "       [ 6.7,  3. ,  5. ,  1.7],\n",
       "       [ 6.2,  2.9,  4.3,  1.3],\n",
       "       [ 6.4,  2.8,  5.6,  2.2],\n",
       "       [ 6.5,  2.8,  4.6,  1.5],\n",
       "       [ 5.6,  3. ,  4.5,  1.5],\n",
       "       [ 5.1,  2.5,  3. ,  1.1],\n",
       "       [ 4.6,  3.4,  1.4,  0.3],\n",
       "       [ 6.3,  2.3,  4.4,  1.3],\n",
       "       [ 7.4,  2.8,  6.1,  1.9],\n",
       "       [ 6.1,  2.9,  4.7,  1.4],\n",
       "       [ 5.9,  3. ,  5.1,  1.8],\n",
       "       [ 5.1,  3.8,  1.6,  0.2],\n",
       "       [ 5.7,  2.6,  3.5,  1. ],\n",
       "       [ 5.5,  2.6,  4.4,  1.2],\n",
       "       [ 4.9,  3.1,  1.5,  0.1],\n",
       "       [ 5.9,  3.2,  4.8,  1.8],\n",
       "       [ 6.9,  3.1,  5.4,  2.1],\n",
       "       [ 6.8,  3. ,  5.5,  2.1],\n",
       "       [ 6.5,  3.2,  5.1,  2. ],\n",
       "       [ 6.2,  3.4,  5.4,  2.3],\n",
       "       [ 4.5,  2.3,  1.3,  0.3],\n",
       "       [ 6.5,  3. ,  5.5,  1.8],\n",
       "       [ 7.2,  3. ,  5.8,  1.6],\n",
       "       [ 5. ,  2. ,  3.5,  1. ],\n",
       "       [ 5.8,  2.7,  4.1,  1. ],\n",
       "       [ 5.8,  4. ,  1.2,  0.2],\n",
       "       [ 5.1,  3.4,  1.5,  0.2],\n",
       "       [ 6.2,  2.2,  4.5,  1.5],\n",
       "       [ 6.7,  3. ,  5.2,  2.3],\n",
       "       [ 6.8,  2.8,  4.8,  1.4],\n",
       "       [ 6.7,  2.5,  5.8,  1.8],\n",
       "       [ 4.8,  3. ,  1.4,  0.3],\n",
       "       [ 5.4,  3.9,  1.3,  0.4],\n",
       "       [ 5.2,  3.5,  1.5,  0.2],\n",
       "       [ 6. ,  3. ,  4.8,  1.8],\n",
       "       [ 5.8,  2.7,  5.1,  1.9],\n",
       "       [ 6.4,  2.8,  5.6,  2.1],\n",
       "       [ 5. ,  3.6,  1.4,  0.2],\n",
       "       [ 6.7,  3.1,  5.6,  2.4],\n",
       "       [ 7.7,  2.6,  6.9,  2.3],\n",
       "       [ 7.7,  3.8,  6.7,  2.2],\n",
       "       [ 5.7,  3.8,  1.7,  0.3],\n",
       "       [ 7.7,  2.8,  6.7,  2. ],\n",
       "       [ 6.7,  3.1,  4.7,  1.5],\n",
       "       [ 6. ,  2.2,  4. ,  1. ],\n",
       "       [ 5. ,  3.2,  1.2,  0.2],\n",
       "       [ 5.4,  3.4,  1.7,  0.2],\n",
       "       [ 4.9,  3.1,  1.5,  0.1],\n",
       "       [ 5.7,  2.9,  4.2,  1.3],\n",
       "       [ 5.7,  2.8,  4.1,  1.3],\n",
       "       [ 4.8,  3.1,  1.6,  0.2],\n",
       "       [ 5.6,  2.5,  3.9,  1.1],\n",
       "       [ 6.1,  3. ,  4.9,  1.8],\n",
       "       [ 4.8,  3. ,  1.4,  0.1],\n",
       "       [ 7. ,  3.2,  4.7,  1.4],\n",
       "       [ 5.2,  2.7,  3.9,  1.4],\n",
       "       [ 7.7,  3. ,  6.1,  2.3],\n",
       "       [ 5. ,  3.5,  1.6,  0.6],\n",
       "       [ 4.4,  3.2,  1.3,  0.2],\n",
       "       [ 5.5,  3.5,  1.3,  0.2],\n",
       "       [ 6.7,  3.1,  4.4,  1.4],\n",
       "       [ 5.1,  3.7,  1.5,  0.4],\n",
       "       [ 6. ,  2.9,  4.5,  1.5],\n",
       "       [ 4.6,  3.2,  1.4,  0.2],\n",
       "       [ 6.3,  2.9,  5.6,  1.8],\n",
       "       [ 6.4,  2.9,  4.3,  1.3],\n",
       "       [ 5. ,  3.5,  1.3,  0.3],\n",
       "       [ 5.1,  3.8,  1.5,  0.3],\n",
       "       [ 4.9,  3. ,  1.4,  0.2],\n",
       "       [ 6.3,  3.3,  6. ,  2.5],\n",
       "       [ 4.8,  3.4,  1.6,  0.2],\n",
       "       [ 5.2,  3.4,  1.4,  0.2],\n",
       "       [ 6.2,  2.8,  4.8,  1.8],\n",
       "       [ 6.3,  2.7,  4.9,  1.8],\n",
       "       [ 5. ,  3.4,  1.6,  0.4],\n",
       "       [ 5.4,  3. ,  4.5,  1.5],\n",
       "       [ 7.3,  2.9,  6.3,  1.8],\n",
       "       [ 5.3,  3.7,  1.5,  0.2],\n",
       "       [ 6. ,  3.4,  4.5,  1.6],\n",
       "       [ 7.1,  3. ,  5.9,  2.1],\n",
       "       [ 4.6,  3.6,  1. ,  0.2],\n",
       "       [ 5.6,  3. ,  4.1,  1.3],\n",
       "       [ 6.9,  3.1,  5.1,  2.3],\n",
       "       [ 5.6,  2.7,  4.2,  1.3],\n",
       "       [ 6.3,  3.3,  4.7,  1.6],\n",
       "       [ 5. ,  3.4,  1.5,  0.2],\n",
       "       [ 5.1,  3.5,  1.4,  0.2],\n",
       "       [ 5.8,  2.7,  3.9,  1.2],\n",
       "       [ 6.6,  3. ,  4.4,  1.4],\n",
       "       [ 5.5,  2.5,  4. ,  1.3],\n",
       "       [ 5.5,  4.2,  1.4,  0.2],\n",
       "       [ 6.5,  3. ,  5.8,  2.2],\n",
       "       [ 6.1,  2.8,  4.7,  1.2],\n",
       "       [ 5. ,  2.3,  3.3,  1. ],\n",
       "       [ 5.2,  4.1,  1.5,  0.1],\n",
       "       [ 5.8,  2.6,  4. ,  1.2],\n",
       "       [ 4.7,  3.2,  1.3,  0.2],\n",
       "       [ 5.8,  2.8,  5.1,  2.4],\n",
       "       [ 6.7,  3.3,  5.7,  2.5],\n",
       "       [ 5.1,  3.3,  1.7,  0.5],\n",
       "       [ 6.9,  3.2,  5.7,  2.3],\n",
       "       [ 4.8,  3.4,  1.9,  0.2],\n",
       "       [ 5.7,  4.4,  1.5,  0.4],\n",
       "       [ 5.6,  2.8,  4.9,  2. ],\n",
       "       [ 5.7,  2.8,  4.5,  1.3],\n",
       "       [ 6.4,  2.7,  5.3,  1.9],\n",
       "       [ 4.7,  3.2,  1.6,  0.2],\n",
       "       [ 6.1,  2.6,  5.6,  1.4]])"
      ]
     },
     "execution_count": 108,
     "metadata": {},
     "output_type": "execute_result"
    }
   ],
   "source": [
    "X_train"
   ]
  },
  {
   "cell_type": "markdown",
   "metadata": {},
   "source": [
    "#### scikit-learn中的standardScaler"
   ]
  },
  {
   "cell_type": "code",
   "execution_count": 109,
   "metadata": {
    "collapsed": true
   },
   "outputs": [],
   "source": [
    "from sklearn.preprocessing import StandardScaler"
   ]
  },
  {
   "cell_type": "code",
   "execution_count": 110,
   "metadata": {
    "collapsed": true
   },
   "outputs": [],
   "source": [
    "stand = StandardScaler()"
   ]
  },
  {
   "cell_type": "code",
   "execution_count": 112,
   "metadata": {},
   "outputs": [
    {
     "data": {
      "text/plain": [
       "StandardScaler(copy=True, with_mean=True, with_std=True)"
      ]
     },
     "execution_count": 112,
     "metadata": {},
     "output_type": "execute_result"
    }
   ],
   "source": [
    "stand.fit(X_train)"
   ]
  },
  {
   "cell_type": "code",
   "execution_count": 113,
   "metadata": {},
   "outputs": [
    {
     "data": {
      "text/plain": [
       "array([ 5.84642857,  3.05892857,  3.72410714,  1.18660714])"
      ]
     },
     "execution_count": 113,
     "metadata": {},
     "output_type": "execute_result"
    }
   ],
   "source": [
    "stand.mean_"
   ]
  },
  {
   "cell_type": "code",
   "execution_count": 114,
   "metadata": {},
   "outputs": [
    {
     "data": {
      "text/plain": [
       "array([ 0.80322215,  0.43600327,  1.75464921,  0.76198701])"
      ]
     },
     "execution_count": 114,
     "metadata": {},
     "output_type": "execute_result"
    }
   ],
   "source": [
    "stand.scale_"
   ]
  },
  {
   "cell_type": "code",
   "execution_count": 115,
   "metadata": {
    "scrolled": false
   },
   "outputs": [
    {
     "data": {
      "text/plain": [
       "array([[ 0.93818557, -0.36451234,  0.49918403,  0.14881206],\n",
       "       [-0.18230146, -1.28193665,  0.72714982,  1.06746289],\n",
       "       [-0.43129858, -1.51129273, -0.01373901, -0.24489544],\n",
       "       [ 0.81368701, -0.13515626,  0.84113272,  1.06746289],\n",
       "       [ 1.06268413, -0.13515626,  0.72714982,  0.67375539],\n",
       "       [ 0.44019133, -0.36451234,  0.32820968,  0.14881206],\n",
       "       [ 0.68918845, -0.59386842,  1.06909851,  1.32993456],\n",
       "       [ 0.81368701, -0.59386842,  0.49918403,  0.41128373],\n",
       "       [-0.30680002, -0.13515626,  0.44219258,  0.41128373],\n",
       "       [-0.92929282, -1.28193665, -0.41267915, -0.11365961],\n",
       "       [-1.55178561,  0.78226805, -1.32454233, -1.16354627],\n",
       "       [ 0.56468989, -1.7406488 ,  0.38520113,  0.14881206],\n",
       "       [ 1.93417405, -0.59386842,  1.35405575,  0.93622706],\n",
       "       [ 0.31569278, -0.36451234,  0.55617548,  0.28004789],\n",
       "       [ 0.06669566, -0.13515626,  0.78414127,  0.80499123],\n",
       "       [-0.92929282,  1.69969236, -1.21055943, -1.2947821 ],\n",
       "       [-0.18230146, -1.05258057, -0.12772191, -0.24489544],\n",
       "       [-0.43129858, -1.05258057,  0.38520113,  0.01757623],\n",
       "       [-1.17828994,  0.09419982, -1.26755088, -1.42601794],\n",
       "       [ 0.06669566,  0.3235559 ,  0.61316692,  0.80499123],\n",
       "       [ 1.31168125,  0.09419982,  0.95511561,  1.19869873],\n",
       "       [ 1.18718269, -0.13515626,  1.01210706,  1.19869873],\n",
       "       [ 0.81368701,  0.3235559 ,  0.78414127,  1.06746289],\n",
       "       [ 0.44019133,  0.78226805,  0.95511561,  1.46117039],\n",
       "       [-1.67628417, -1.7406488 , -1.38153377, -1.16354627],\n",
       "       [ 0.81368701, -0.13515626,  1.01210706,  0.80499123],\n",
       "       [ 1.68517693, -0.13515626,  1.18308141,  0.54251956],\n",
       "       [-1.05379138, -2.42871704, -0.12772191, -0.24489544],\n",
       "       [-0.0578029 , -0.82322449,  0.21422678, -0.24489544],\n",
       "       [-0.0578029 ,  2.15840452, -1.43852522, -1.2947821 ],\n",
       "       [-0.92929282,  0.78226805, -1.26755088, -1.2947821 ],\n",
       "       [ 0.44019133, -1.97000488,  0.44219258,  0.41128373],\n",
       "       [ 1.06268413, -0.13515626,  0.84113272,  1.46117039],\n",
       "       [ 1.18718269, -0.59386842,  0.61316692,  0.28004789],\n",
       "       [ 1.06268413, -1.28193665,  1.18308141,  0.80499123],\n",
       "       [-1.3027885 , -0.13515626, -1.32454233, -1.16354627],\n",
       "       [-0.55579714,  1.92904844, -1.38153377, -1.03231044],\n",
       "       [-0.80479426,  1.01162413, -1.26755088, -1.2947821 ],\n",
       "       [ 0.19119422, -0.13515626,  0.61316692,  0.80499123],\n",
       "       [-0.0578029 , -0.82322449,  0.78414127,  0.93622706],\n",
       "       [ 0.68918845, -0.59386842,  1.06909851,  1.19869873],\n",
       "       [-1.05379138,  1.24098021, -1.32454233, -1.2947821 ],\n",
       "       [ 1.06268413,  0.09419982,  1.06909851,  1.59240622],\n",
       "       [ 2.30766972, -1.05258057,  1.80998734,  1.46117039],\n",
       "       [ 2.30766972,  1.69969236,  1.69600444,  1.32993456],\n",
       "       [-0.18230146,  1.69969236, -1.15356798, -1.16354627],\n",
       "       [ 2.30766972, -0.59386842,  1.69600444,  1.06746289],\n",
       "       [ 1.06268413,  0.09419982,  0.55617548,  0.41128373],\n",
       "       [ 0.19119422, -1.97000488,  0.15723534, -0.24489544],\n",
       "       [-1.05379138,  0.3235559 , -1.43852522, -1.2947821 ],\n",
       "       [-0.55579714,  0.78226805, -1.15356798, -1.2947821 ],\n",
       "       [-1.17828994,  0.09419982, -1.26755088, -1.42601794],\n",
       "       [-0.18230146, -0.36451234,  0.27121823,  0.14881206],\n",
       "       [-0.18230146, -0.59386842,  0.21422678,  0.14881206],\n",
       "       [-1.3027885 ,  0.09419982, -1.21055943, -1.2947821 ],\n",
       "       [-0.30680002, -1.28193665,  0.10024389, -0.11365961],\n",
       "       [ 0.31569278, -0.13515626,  0.67015837,  0.80499123],\n",
       "       [-1.3027885 , -0.13515626, -1.32454233, -1.42601794],\n",
       "       [ 1.43617981,  0.3235559 ,  0.55617548,  0.28004789],\n",
       "       [-0.80479426, -0.82322449,  0.10024389,  0.28004789],\n",
       "       [ 2.30766972, -0.13515626,  1.35405575,  1.46117039],\n",
       "       [-1.05379138,  1.01162413, -1.21055943, -0.76983877],\n",
       "       [-1.80078273,  0.3235559 , -1.38153377, -1.2947821 ],\n",
       "       [-0.43129858,  1.01162413, -1.38153377, -1.2947821 ],\n",
       "       [ 1.06268413,  0.09419982,  0.38520113,  0.28004789],\n",
       "       [-0.92929282,  1.47033628, -1.26755088, -1.03231044],\n",
       "       [ 0.19119422, -0.36451234,  0.44219258,  0.41128373],\n",
       "       [-1.55178561,  0.3235559 , -1.32454233, -1.2947821 ],\n",
       "       [ 0.56468989, -0.36451234,  1.06909851,  0.80499123],\n",
       "       [ 0.68918845, -0.36451234,  0.32820968,  0.14881206],\n",
       "       [-1.05379138,  1.01162413, -1.38153377, -1.16354627],\n",
       "       [-0.92929282,  1.69969236, -1.26755088, -1.16354627],\n",
       "       [-1.17828994, -0.13515626, -1.32454233, -1.2947821 ],\n",
       "       [ 0.56468989,  0.55291197,  1.29706431,  1.72364206],\n",
       "       [-1.3027885 ,  0.78226805, -1.21055943, -1.2947821 ],\n",
       "       [-0.80479426,  0.78226805, -1.32454233, -1.2947821 ],\n",
       "       [ 0.44019133, -0.59386842,  0.61316692,  0.80499123],\n",
       "       [ 0.56468989, -0.82322449,  0.67015837,  0.80499123],\n",
       "       [-1.05379138,  0.78226805, -1.21055943, -1.03231044],\n",
       "       [-0.55579714, -0.13515626,  0.44219258,  0.41128373],\n",
       "       [ 1.80967549, -0.36451234,  1.46803865,  0.80499123],\n",
       "       [-0.6802957 ,  1.47033628, -1.26755088, -1.2947821 ],\n",
       "       [ 0.19119422,  0.78226805,  0.44219258,  0.54251956],\n",
       "       [ 1.56067837, -0.13515626,  1.24007286,  1.19869873],\n",
       "       [-1.55178561,  1.24098021, -1.55250812, -1.2947821 ],\n",
       "       [-0.30680002, -0.13515626,  0.21422678,  0.14881206],\n",
       "       [ 1.31168125,  0.09419982,  0.78414127,  1.46117039],\n",
       "       [-0.30680002, -0.82322449,  0.27121823,  0.14881206],\n",
       "       [ 0.56468989,  0.55291197,  0.55617548,  0.54251956],\n",
       "       [-1.05379138,  0.78226805, -1.26755088, -1.2947821 ],\n",
       "       [-0.92929282,  1.01162413, -1.32454233, -1.2947821 ],\n",
       "       [-0.0578029 , -0.82322449,  0.10024389,  0.01757623],\n",
       "       [ 0.93818557, -0.13515626,  0.38520113,  0.28004789],\n",
       "       [-0.43129858, -1.28193665,  0.15723534,  0.14881206],\n",
       "       [-0.43129858,  2.61711667, -1.32454233, -1.2947821 ],\n",
       "       [ 0.81368701, -0.13515626,  1.18308141,  1.32993456],\n",
       "       [ 0.31569278, -0.59386842,  0.55617548,  0.01757623],\n",
       "       [-1.05379138, -1.7406488 , -0.2417048 , -0.24489544],\n",
       "       [-0.80479426,  2.38776059, -1.26755088, -1.42601794],\n",
       "       [-0.0578029 , -1.05258057,  0.15723534,  0.01757623],\n",
       "       [-1.42728705,  0.3235559 , -1.38153377, -1.2947821 ],\n",
       "       [-0.0578029 , -0.59386842,  0.78414127,  1.59240622],\n",
       "       [ 1.06268413,  0.55291197,  1.12608996,  1.72364206],\n",
       "       [-0.92929282,  0.55291197, -1.15356798, -0.9010746 ],\n",
       "       [ 1.31168125,  0.3235559 ,  1.12608996,  1.46117039],\n",
       "       [-1.3027885 ,  0.78226805, -1.03958508, -1.2947821 ],\n",
       "       [-0.18230146,  3.07582883, -1.26755088, -1.03231044],\n",
       "       [-0.30680002, -0.59386842,  0.67015837,  1.06746289],\n",
       "       [-0.18230146, -0.59386842,  0.44219258,  0.14881206],\n",
       "       [ 0.68918845, -0.82322449,  0.89812417,  0.93622706],\n",
       "       [-1.42728705,  0.3235559 , -1.21055943, -1.2947821 ],\n",
       "       [ 0.31569278, -1.05258057,  1.06909851,  0.28004789]])"
      ]
     },
     "execution_count": 115,
     "metadata": {},
     "output_type": "execute_result"
    }
   ],
   "source": [
    "stand.transform(X_train)"
   ]
  },
  {
   "cell_type": "code",
   "execution_count": 116,
   "metadata": {
    "collapsed": true
   },
   "outputs": [],
   "source": [
    "X_train = stand.transform(X_train)"
   ]
  },
  {
   "cell_type": "code",
   "execution_count": 117,
   "metadata": {
    "scrolled": false
   },
   "outputs": [
    {
     "data": {
      "text/plain": [
       "array([[ 0.93818557, -0.36451234,  0.49918403,  0.14881206],\n",
       "       [-0.18230146, -1.28193665,  0.72714982,  1.06746289],\n",
       "       [-0.43129858, -1.51129273, -0.01373901, -0.24489544],\n",
       "       [ 0.81368701, -0.13515626,  0.84113272,  1.06746289],\n",
       "       [ 1.06268413, -0.13515626,  0.72714982,  0.67375539],\n",
       "       [ 0.44019133, -0.36451234,  0.32820968,  0.14881206],\n",
       "       [ 0.68918845, -0.59386842,  1.06909851,  1.32993456],\n",
       "       [ 0.81368701, -0.59386842,  0.49918403,  0.41128373],\n",
       "       [-0.30680002, -0.13515626,  0.44219258,  0.41128373],\n",
       "       [-0.92929282, -1.28193665, -0.41267915, -0.11365961],\n",
       "       [-1.55178561,  0.78226805, -1.32454233, -1.16354627],\n",
       "       [ 0.56468989, -1.7406488 ,  0.38520113,  0.14881206],\n",
       "       [ 1.93417405, -0.59386842,  1.35405575,  0.93622706],\n",
       "       [ 0.31569278, -0.36451234,  0.55617548,  0.28004789],\n",
       "       [ 0.06669566, -0.13515626,  0.78414127,  0.80499123],\n",
       "       [-0.92929282,  1.69969236, -1.21055943, -1.2947821 ],\n",
       "       [-0.18230146, -1.05258057, -0.12772191, -0.24489544],\n",
       "       [-0.43129858, -1.05258057,  0.38520113,  0.01757623],\n",
       "       [-1.17828994,  0.09419982, -1.26755088, -1.42601794],\n",
       "       [ 0.06669566,  0.3235559 ,  0.61316692,  0.80499123],\n",
       "       [ 1.31168125,  0.09419982,  0.95511561,  1.19869873],\n",
       "       [ 1.18718269, -0.13515626,  1.01210706,  1.19869873],\n",
       "       [ 0.81368701,  0.3235559 ,  0.78414127,  1.06746289],\n",
       "       [ 0.44019133,  0.78226805,  0.95511561,  1.46117039],\n",
       "       [-1.67628417, -1.7406488 , -1.38153377, -1.16354627],\n",
       "       [ 0.81368701, -0.13515626,  1.01210706,  0.80499123],\n",
       "       [ 1.68517693, -0.13515626,  1.18308141,  0.54251956],\n",
       "       [-1.05379138, -2.42871704, -0.12772191, -0.24489544],\n",
       "       [-0.0578029 , -0.82322449,  0.21422678, -0.24489544],\n",
       "       [-0.0578029 ,  2.15840452, -1.43852522, -1.2947821 ],\n",
       "       [-0.92929282,  0.78226805, -1.26755088, -1.2947821 ],\n",
       "       [ 0.44019133, -1.97000488,  0.44219258,  0.41128373],\n",
       "       [ 1.06268413, -0.13515626,  0.84113272,  1.46117039],\n",
       "       [ 1.18718269, -0.59386842,  0.61316692,  0.28004789],\n",
       "       [ 1.06268413, -1.28193665,  1.18308141,  0.80499123],\n",
       "       [-1.3027885 , -0.13515626, -1.32454233, -1.16354627],\n",
       "       [-0.55579714,  1.92904844, -1.38153377, -1.03231044],\n",
       "       [-0.80479426,  1.01162413, -1.26755088, -1.2947821 ],\n",
       "       [ 0.19119422, -0.13515626,  0.61316692,  0.80499123],\n",
       "       [-0.0578029 , -0.82322449,  0.78414127,  0.93622706],\n",
       "       [ 0.68918845, -0.59386842,  1.06909851,  1.19869873],\n",
       "       [-1.05379138,  1.24098021, -1.32454233, -1.2947821 ],\n",
       "       [ 1.06268413,  0.09419982,  1.06909851,  1.59240622],\n",
       "       [ 2.30766972, -1.05258057,  1.80998734,  1.46117039],\n",
       "       [ 2.30766972,  1.69969236,  1.69600444,  1.32993456],\n",
       "       [-0.18230146,  1.69969236, -1.15356798, -1.16354627],\n",
       "       [ 2.30766972, -0.59386842,  1.69600444,  1.06746289],\n",
       "       [ 1.06268413,  0.09419982,  0.55617548,  0.41128373],\n",
       "       [ 0.19119422, -1.97000488,  0.15723534, -0.24489544],\n",
       "       [-1.05379138,  0.3235559 , -1.43852522, -1.2947821 ],\n",
       "       [-0.55579714,  0.78226805, -1.15356798, -1.2947821 ],\n",
       "       [-1.17828994,  0.09419982, -1.26755088, -1.42601794],\n",
       "       [-0.18230146, -0.36451234,  0.27121823,  0.14881206],\n",
       "       [-0.18230146, -0.59386842,  0.21422678,  0.14881206],\n",
       "       [-1.3027885 ,  0.09419982, -1.21055943, -1.2947821 ],\n",
       "       [-0.30680002, -1.28193665,  0.10024389, -0.11365961],\n",
       "       [ 0.31569278, -0.13515626,  0.67015837,  0.80499123],\n",
       "       [-1.3027885 , -0.13515626, -1.32454233, -1.42601794],\n",
       "       [ 1.43617981,  0.3235559 ,  0.55617548,  0.28004789],\n",
       "       [-0.80479426, -0.82322449,  0.10024389,  0.28004789],\n",
       "       [ 2.30766972, -0.13515626,  1.35405575,  1.46117039],\n",
       "       [-1.05379138,  1.01162413, -1.21055943, -0.76983877],\n",
       "       [-1.80078273,  0.3235559 , -1.38153377, -1.2947821 ],\n",
       "       [-0.43129858,  1.01162413, -1.38153377, -1.2947821 ],\n",
       "       [ 1.06268413,  0.09419982,  0.38520113,  0.28004789],\n",
       "       [-0.92929282,  1.47033628, -1.26755088, -1.03231044],\n",
       "       [ 0.19119422, -0.36451234,  0.44219258,  0.41128373],\n",
       "       [-1.55178561,  0.3235559 , -1.32454233, -1.2947821 ],\n",
       "       [ 0.56468989, -0.36451234,  1.06909851,  0.80499123],\n",
       "       [ 0.68918845, -0.36451234,  0.32820968,  0.14881206],\n",
       "       [-1.05379138,  1.01162413, -1.38153377, -1.16354627],\n",
       "       [-0.92929282,  1.69969236, -1.26755088, -1.16354627],\n",
       "       [-1.17828994, -0.13515626, -1.32454233, -1.2947821 ],\n",
       "       [ 0.56468989,  0.55291197,  1.29706431,  1.72364206],\n",
       "       [-1.3027885 ,  0.78226805, -1.21055943, -1.2947821 ],\n",
       "       [-0.80479426,  0.78226805, -1.32454233, -1.2947821 ],\n",
       "       [ 0.44019133, -0.59386842,  0.61316692,  0.80499123],\n",
       "       [ 0.56468989, -0.82322449,  0.67015837,  0.80499123],\n",
       "       [-1.05379138,  0.78226805, -1.21055943, -1.03231044],\n",
       "       [-0.55579714, -0.13515626,  0.44219258,  0.41128373],\n",
       "       [ 1.80967549, -0.36451234,  1.46803865,  0.80499123],\n",
       "       [-0.6802957 ,  1.47033628, -1.26755088, -1.2947821 ],\n",
       "       [ 0.19119422,  0.78226805,  0.44219258,  0.54251956],\n",
       "       [ 1.56067837, -0.13515626,  1.24007286,  1.19869873],\n",
       "       [-1.55178561,  1.24098021, -1.55250812, -1.2947821 ],\n",
       "       [-0.30680002, -0.13515626,  0.21422678,  0.14881206],\n",
       "       [ 1.31168125,  0.09419982,  0.78414127,  1.46117039],\n",
       "       [-0.30680002, -0.82322449,  0.27121823,  0.14881206],\n",
       "       [ 0.56468989,  0.55291197,  0.55617548,  0.54251956],\n",
       "       [-1.05379138,  0.78226805, -1.26755088, -1.2947821 ],\n",
       "       [-0.92929282,  1.01162413, -1.32454233, -1.2947821 ],\n",
       "       [-0.0578029 , -0.82322449,  0.10024389,  0.01757623],\n",
       "       [ 0.93818557, -0.13515626,  0.38520113,  0.28004789],\n",
       "       [-0.43129858, -1.28193665,  0.15723534,  0.14881206],\n",
       "       [-0.43129858,  2.61711667, -1.32454233, -1.2947821 ],\n",
       "       [ 0.81368701, -0.13515626,  1.18308141,  1.32993456],\n",
       "       [ 0.31569278, -0.59386842,  0.55617548,  0.01757623],\n",
       "       [-1.05379138, -1.7406488 , -0.2417048 , -0.24489544],\n",
       "       [-0.80479426,  2.38776059, -1.26755088, -1.42601794],\n",
       "       [-0.0578029 , -1.05258057,  0.15723534,  0.01757623],\n",
       "       [-1.42728705,  0.3235559 , -1.38153377, -1.2947821 ],\n",
       "       [-0.0578029 , -0.59386842,  0.78414127,  1.59240622],\n",
       "       [ 1.06268413,  0.55291197,  1.12608996,  1.72364206],\n",
       "       [-0.92929282,  0.55291197, -1.15356798, -0.9010746 ],\n",
       "       [ 1.31168125,  0.3235559 ,  1.12608996,  1.46117039],\n",
       "       [-1.3027885 ,  0.78226805, -1.03958508, -1.2947821 ],\n",
       "       [-0.18230146,  3.07582883, -1.26755088, -1.03231044],\n",
       "       [-0.30680002, -0.59386842,  0.67015837,  1.06746289],\n",
       "       [-0.18230146, -0.59386842,  0.44219258,  0.14881206],\n",
       "       [ 0.68918845, -0.82322449,  0.89812417,  0.93622706],\n",
       "       [-1.42728705,  0.3235559 , -1.21055943, -1.2947821 ],\n",
       "       [ 0.31569278, -1.05258057,  1.06909851,  0.28004789]])"
      ]
     },
     "execution_count": 117,
     "metadata": {},
     "output_type": "execute_result"
    }
   ],
   "source": [
    "X_train"
   ]
  },
  {
   "cell_type": "code",
   "execution_count": 127,
   "metadata": {
    "collapsed": true
   },
   "outputs": [],
   "source": [
    "X_test_t = stand.transform(X_test)"
   ]
  },
  {
   "cell_type": "code",
   "execution_count": 128,
   "metadata": {
    "scrolled": true
   },
   "outputs": [
    {
     "data": {
      "text/plain": [
       "array([[ 0.68918845,  0.3235559 ,  0.44219258,  0.41128373],\n",
       "       [ 0.68918845,  0.09419982,  1.01210706,  0.80499123],\n",
       "       [ 0.31569278, -0.59386842,  0.15723534,  0.14881206],\n",
       "       [-1.55178561,  0.09419982, -1.26755088, -1.2947821 ],\n",
       "       [-0.92929282,  1.69969236, -1.03958508, -1.03231044],\n",
       "       [ 0.56468989,  0.78226805,  1.06909851,  1.59240622],\n",
       "       [ 0.06669566, -0.13515626,  0.27121823,  0.41128373],\n",
       "       [ 0.56468989, -0.59386842,  0.78414127,  0.41128373],\n",
       "       [-0.92929282,  1.01162413, -1.32454233, -1.16354627],\n",
       "       [ 1.31168125,  0.09419982,  0.67015837,  0.41128373],\n",
       "       [ 0.56468989, -1.28193665,  0.72714982,  0.93622706],\n",
       "       [-0.55579714,  1.47033628, -1.26755088, -1.2947821 ],\n",
       "       [-0.43129858, -1.7406488 ,  0.15723534,  0.14881206],\n",
       "       [-0.43129858, -1.51129273,  0.04325244, -0.11365961],\n",
       "       [ 2.55666684,  1.69969236,  1.5250301 ,  1.06746289],\n",
       "       [-1.05379138,  0.55291197, -1.32454233, -1.2947821 ],\n",
       "       [-1.17828994, -1.28193665,  0.44219258,  0.67375539],\n",
       "       [-1.17828994,  0.09419982, -1.26755088, -1.42601794],\n",
       "       [ 1.68517693,  0.3235559 ,  1.29706431,  0.80499123],\n",
       "       [-1.17828994, -1.51129273, -0.2417048 , -0.24489544],\n",
       "       [ 0.31569278, -0.13515626,  0.49918403,  0.28004789],\n",
       "       [-0.30680002, -0.36451234, -0.07073046,  0.14881206],\n",
       "       [ 1.68517693,  1.24098021,  1.35405575,  1.72364206],\n",
       "       [-1.92528129, -0.13515626, -1.49551667, -1.42601794],\n",
       "       [ 2.18317116, -0.13515626,  1.639013  ,  1.19869873],\n",
       "       [-0.18230146, -0.13515626,  0.27121823,  0.01757623],\n",
       "       [ 1.06268413,  0.55291197,  1.12608996,  1.19869873],\n",
       "       [-1.80078273, -0.36451234, -1.32454233, -1.2947821 ],\n",
       "       [ 1.18718269,  0.3235559 ,  1.24007286,  1.46117039],\n",
       "       [ 0.56468989, -1.28193665,  0.67015837,  0.41128373],\n",
       "       [-0.55579714,  0.78226805, -1.26755088, -1.03231044],\n",
       "       [-1.80078273, -0.13515626, -1.38153377, -1.2947821 ],\n",
       "       [ 0.19119422, -1.97000488,  0.72714982,  0.41128373],\n",
       "       [ 0.19119422, -0.82322449,  0.78414127,  0.54251956],\n",
       "       [-0.0578029 , -0.82322449,  0.78414127,  0.93622706],\n",
       "       [-1.05379138, -0.13515626, -1.21055943, -1.2947821 ],\n",
       "       [ 0.68918845,  0.3235559 ,  0.89812417,  1.46117039],\n",
       "       [-0.55579714,  1.92904844, -1.15356798, -1.03231044]])"
      ]
     },
     "execution_count": 128,
     "metadata": {},
     "output_type": "execute_result"
    }
   ],
   "source": [
    "X_test"
   ]
  },
  {
   "cell_type": "code",
   "execution_count": 129,
   "metadata": {
    "collapsed": true
   },
   "outputs": [],
   "source": [
    "from sklearn.neighbors import KNeighborsClassifier"
   ]
  },
  {
   "cell_type": "code",
   "execution_count": 130,
   "metadata": {
    "collapsed": true
   },
   "outputs": [],
   "source": [
    "knn = KNeighborsClassifier(n_neighbors = 3)"
   ]
  },
  {
   "cell_type": "code",
   "execution_count": 131,
   "metadata": {},
   "outputs": [
    {
     "data": {
      "text/plain": [
       "KNeighborsClassifier(algorithm='auto', leaf_size=30, metric='minkowski',\n",
       "           metric_params=None, n_jobs=1, n_neighbors=3, p=2,\n",
       "           weights='uniform')"
      ]
     },
     "execution_count": 131,
     "metadata": {},
     "output_type": "execute_result"
    }
   ],
   "source": [
    "knn.fit(X_train, y_train)"
   ]
  },
  {
   "cell_type": "code",
   "execution_count": 132,
   "metadata": {},
   "outputs": [
    {
     "data": {
      "text/plain": [
       "0.86842105263157898"
      ]
     },
     "execution_count": 132,
     "metadata": {},
     "output_type": "execute_result"
    }
   ],
   "source": [
    "knn.score(X_test, y_test)"
   ]
  },
  {
   "cell_type": "markdown",
   "metadata": {},
   "source": [
    "* knn 解决分类问题   可以解决多分类问题   思想简单，效果强大\n",
    " knn可以解决回归问题：KNeighborsRegressor\n",
    "* **缺点**\n",
    "*     **最大缺点：**效率低下。如果训练集有m个样本，n个特征，则预测一个新的数据，需要O(m*n)\n",
    "*     **优化，使用树的结构：**KD-Tree,Ball-Tree"
   ]
  },
  {
   "cell_type": "markdown",
   "metadata": {},
   "source": [
    "* **缺点二：**高度数据相关\n",
    "* **缺点三：**预测结果不具有可解释性\n",
    "\n",
    "* （维数灾难）随着维度的增加，看似相近的两个点之间的距离越来越大\n",
    "* 降维pca"
   ]
  },
  {
   "cell_type": "code",
   "execution_count": null,
   "metadata": {
    "collapsed": true
   },
   "outputs": [],
   "source": [
    "import numpy as np"
   ]
  },
  {
   "cell_type": "code",
   "execution_count": null,
   "metadata": {
    "collapsed": true
   },
   "outputs": [],
   "source": []
  }
 ],
 "metadata": {
  "kernelspec": {
   "display_name": "Python 3",
   "language": "python",
   "name": "python3"
  },
  "language_info": {
   "codemirror_mode": {
    "name": "ipython",
    "version": 3
   },
   "file_extension": ".py",
   "mimetype": "text/x-python",
   "name": "python",
   "nbconvert_exporter": "python",
   "pygments_lexer": "ipython3",
   "version": "3.6.3"
  },
  "nbTranslate": {
   "displayLangs": [
    "*"
   ],
   "hotkey": "alt-t",
   "langInMainMenu": true,
   "sourceLang": "en",
   "targetLang": "fr",
   "useGoogleTranslate": true
  }
 },
 "nbformat": 4,
 "nbformat_minor": 2
}
